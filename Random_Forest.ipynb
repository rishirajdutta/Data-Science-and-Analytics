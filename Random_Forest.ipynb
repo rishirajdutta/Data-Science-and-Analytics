{
 "cells": [
  {
   "cell_type": "code",
   "execution_count": 1,
   "metadata": {
    "collapsed": true
   },
   "outputs": [],
   "source": [
    "import numpy as np\n",
    "import pandas as pd\n",
    "import missingno as msno\n",
    "import matplotlib.pyplot as plt\n",
    "from pylab import rcParams\n",
    "import seaborn as sns\n",
    "import datetime \n",
    "color = sns.color_palette()\n",
    "%matplotlib inline\n",
    "rcParams['figure.figsize'] = 10, 10\n",
    "# This will give us a good resolution for our visualization\n",
    "%config InlineBackend.figure_format = 'retina' "
   ]
  },
  {
   "cell_type": "code",
   "execution_count": 2,
   "metadata": {
    "collapsed": true
   },
   "outputs": [],
   "source": [
    "# Importing the dataset\n",
    "fd = pd.read_excel('C:\\\\Users\\\\rishi\\\\Desktop\\\\Fall 2018\\\\ML in Finance\\\\forex.xlsx')\n",
    "ads = pd.read_excel('C:\\\\Users\\\\rishi\\\\Desktop\\\\Fall 2018\\\\ML in Finance\\\\Professor\\\\Lecture_5\\\\ads_all_vintages-zip(1)\\\\ads.xlsx')"
   ]
  },
  {
   "cell_type": "code",
   "execution_count": 3,
   "metadata": {},
   "outputs": [
    {
     "data": {
      "text/html": [
       "<div>\n",
       "<style>\n",
       "    .dataframe thead tr:only-child th {\n",
       "        text-align: right;\n",
       "    }\n",
       "\n",
       "    .dataframe thead th {\n",
       "        text-align: left;\n",
       "    }\n",
       "\n",
       "    .dataframe tbody tr th {\n",
       "        vertical-align: top;\n",
       "    }\n",
       "</style>\n",
       "<table border=\"1\" class=\"dataframe\">\n",
       "  <thead>\n",
       "    <tr style=\"text-align: right;\">\n",
       "      <th></th>\n",
       "      <th>observation_date</th>\n",
       "      <th>DEXBZUS</th>\n",
       "      <th>DEXUSEU</th>\n",
       "      <th>DEXUSAL</th>\n",
       "      <th>DEXSZUS</th>\n",
       "      <th>DEXUSUK</th>\n",
       "    </tr>\n",
       "  </thead>\n",
       "  <tbody>\n",
       "    <tr>\n",
       "      <th>0</th>\n",
       "      <td>2015-01-01</td>\n",
       "      <td>NaN</td>\n",
       "      <td>NaN</td>\n",
       "      <td>NaN</td>\n",
       "      <td>NaN</td>\n",
       "      <td>NaN</td>\n",
       "    </tr>\n",
       "    <tr>\n",
       "      <th>1</th>\n",
       "      <td>2015-01-02</td>\n",
       "      <td>2.6967</td>\n",
       "      <td>1.2015</td>\n",
       "      <td>0.7379</td>\n",
       "      <td>1.2938</td>\n",
       "      <td>1.7404</td>\n",
       "    </tr>\n",
       "    <tr>\n",
       "      <th>2</th>\n",
       "      <td>2015-01-05</td>\n",
       "      <td>2.7284</td>\n",
       "      <td>1.1918</td>\n",
       "      <td>0.7465</td>\n",
       "      <td>1.2801</td>\n",
       "      <td>1.7588</td>\n",
       "    </tr>\n",
       "    <tr>\n",
       "      <th>3</th>\n",
       "      <td>2015-01-06</td>\n",
       "      <td>2.7013</td>\n",
       "      <td>1.1936</td>\n",
       "      <td>0.7482</td>\n",
       "      <td>1.2770</td>\n",
       "      <td>1.7566</td>\n",
       "    </tr>\n",
       "    <tr>\n",
       "      <th>4</th>\n",
       "      <td>2015-01-07</td>\n",
       "      <td>2.7000</td>\n",
       "      <td>1.1820</td>\n",
       "      <td>0.7528</td>\n",
       "      <td>1.2695</td>\n",
       "      <td>1.7697</td>\n",
       "    </tr>\n",
       "  </tbody>\n",
       "</table>\n",
       "</div>"
      ],
      "text/plain": [
       "  observation_date  DEXBZUS  DEXUSEU  DEXUSAL  DEXSZUS  DEXUSUK\n",
       "0       2015-01-01      NaN      NaN      NaN      NaN      NaN\n",
       "1       2015-01-02   2.6967   1.2015   0.7379   1.2938   1.7404\n",
       "2       2015-01-05   2.7284   1.1918   0.7465   1.2801   1.7588\n",
       "3       2015-01-06   2.7013   1.1936   0.7482   1.2770   1.7566\n",
       "4       2015-01-07   2.7000   1.1820   0.7528   1.2695   1.7697"
      ]
     },
     "execution_count": 3,
     "metadata": {},
     "output_type": "execute_result"
    }
   ],
   "source": [
    "fd.head()"
   ]
  },
  {
   "cell_type": "code",
   "execution_count": 4,
   "metadata": {},
   "outputs": [
    {
     "data": {
      "text/html": [
       "<div>\n",
       "<style>\n",
       "    .dataframe thead tr:only-child th {\n",
       "        text-align: right;\n",
       "    }\n",
       "\n",
       "    .dataframe thead th {\n",
       "        text-align: left;\n",
       "    }\n",
       "\n",
       "    .dataframe tbody tr th {\n",
       "        vertical-align: top;\n",
       "    }\n",
       "</style>\n",
       "<table border=\"1\" class=\"dataframe\">\n",
       "  <thead>\n",
       "    <tr style=\"text-align: right;\">\n",
       "      <th></th>\n",
       "      <th>ADS_dates</th>\n",
       "      <th>ADS_Index_111618</th>\n",
       "    </tr>\n",
       "  </thead>\n",
       "  <tbody>\n",
       "    <tr>\n",
       "      <th>0</th>\n",
       "      <td>2015-01-01</td>\n",
       "      <td>-0.223363</td>\n",
       "    </tr>\n",
       "    <tr>\n",
       "      <th>1</th>\n",
       "      <td>2015-01-02</td>\n",
       "      <td>-0.234620</td>\n",
       "    </tr>\n",
       "    <tr>\n",
       "      <th>2</th>\n",
       "      <td>2015-01-03</td>\n",
       "      <td>-0.245410</td>\n",
       "    </tr>\n",
       "    <tr>\n",
       "      <th>3</th>\n",
       "      <td>2015-01-04</td>\n",
       "      <td>-0.255736</td>\n",
       "    </tr>\n",
       "    <tr>\n",
       "      <th>4</th>\n",
       "      <td>2015-01-05</td>\n",
       "      <td>-0.265741</td>\n",
       "    </tr>\n",
       "  </tbody>\n",
       "</table>\n",
       "</div>"
      ],
      "text/plain": [
       "   ADS_dates  ADS_Index_111618\n",
       "0 2015-01-01         -0.223363\n",
       "1 2015-01-02         -0.234620\n",
       "2 2015-01-03         -0.245410\n",
       "3 2015-01-04         -0.255736\n",
       "4 2015-01-05         -0.265741"
      ]
     },
     "execution_count": 4,
     "metadata": {},
     "output_type": "execute_result"
    }
   ],
   "source": [
    "ads.head()"
   ]
  },
  {
   "cell_type": "code",
   "execution_count": 5,
   "metadata": {},
   "outputs": [
    {
     "data": {
      "text/plain": [
       "(1346, 2)"
      ]
     },
     "execution_count": 5,
     "metadata": {},
     "output_type": "execute_result"
    }
   ],
   "source": [
    "ads.shape"
   ]
  },
  {
   "cell_type": "code",
   "execution_count": 6,
   "metadata": {
    "collapsed": true
   },
   "outputs": [],
   "source": [
    "for i in range(0, len(ads)):\n",
    "    if i % 7 == 2 or i % 7 == 3:\n",
    "        ads.drop([i], inplace = True)"
   ]
  },
  {
   "cell_type": "code",
   "execution_count": 7,
   "metadata": {},
   "outputs": [
    {
     "data": {
      "text/html": [
       "<div>\n",
       "<style>\n",
       "    .dataframe thead tr:only-child th {\n",
       "        text-align: right;\n",
       "    }\n",
       "\n",
       "    .dataframe thead th {\n",
       "        text-align: left;\n",
       "    }\n",
       "\n",
       "    .dataframe tbody tr th {\n",
       "        vertical-align: top;\n",
       "    }\n",
       "</style>\n",
       "<table border=\"1\" class=\"dataframe\">\n",
       "  <thead>\n",
       "    <tr style=\"text-align: right;\">\n",
       "      <th></th>\n",
       "      <th>ADS_dates</th>\n",
       "      <th>ADS_Index_111618</th>\n",
       "    </tr>\n",
       "  </thead>\n",
       "  <tbody>\n",
       "    <tr>\n",
       "      <th>0</th>\n",
       "      <td>2015-01-01</td>\n",
       "      <td>-0.223363</td>\n",
       "    </tr>\n",
       "    <tr>\n",
       "      <th>1</th>\n",
       "      <td>2015-01-02</td>\n",
       "      <td>-0.234620</td>\n",
       "    </tr>\n",
       "    <tr>\n",
       "      <th>4</th>\n",
       "      <td>2015-01-05</td>\n",
       "      <td>-0.265741</td>\n",
       "    </tr>\n",
       "    <tr>\n",
       "      <th>5</th>\n",
       "      <td>2015-01-06</td>\n",
       "      <td>-0.275249</td>\n",
       "    </tr>\n",
       "    <tr>\n",
       "      <th>6</th>\n",
       "      <td>2015-01-07</td>\n",
       "      <td>-0.284261</td>\n",
       "    </tr>\n",
       "  </tbody>\n",
       "</table>\n",
       "</div>"
      ],
      "text/plain": [
       "   ADS_dates  ADS_Index_111618\n",
       "0 2015-01-01         -0.223363\n",
       "1 2015-01-02         -0.234620\n",
       "4 2015-01-05         -0.265741\n",
       "5 2015-01-06         -0.275249\n",
       "6 2015-01-07         -0.284261"
      ]
     },
     "execution_count": 7,
     "metadata": {},
     "output_type": "execute_result"
    }
   ],
   "source": [
    "ads.head()"
   ]
  },
  {
   "cell_type": "code",
   "execution_count": 8,
   "metadata": {},
   "outputs": [
    {
     "data": {
      "text/plain": [
       "(962, 2)"
      ]
     },
     "execution_count": 8,
     "metadata": {},
     "output_type": "execute_result"
    }
   ],
   "source": [
    "ads.shape"
   ]
  },
  {
   "cell_type": "code",
   "execution_count": 9,
   "metadata": {},
   "outputs": [
    {
     "data": {
      "text/plain": [
       "(962, 6)"
      ]
     },
     "execution_count": 9,
     "metadata": {},
     "output_type": "execute_result"
    }
   ],
   "source": [
    "fd.shape"
   ]
  },
  {
   "cell_type": "code",
   "execution_count": 10,
   "metadata": {
    "collapsed": true
   },
   "outputs": [],
   "source": [
    "fd = fd.set_index(pd.DatetimeIndex(fd['observation_date']))\n",
    "del fd['observation_date']"
   ]
  },
  {
   "cell_type": "code",
   "execution_count": 11,
   "metadata": {
    "collapsed": true
   },
   "outputs": [],
   "source": [
    "ads = ads.set_index(pd.DatetimeIndex(ads['ADS_dates']))\n",
    "del ads['ADS_dates']"
   ]
  },
  {
   "cell_type": "code",
   "execution_count": 12,
   "metadata": {},
   "outputs": [
    {
     "data": {
      "text/html": [
       "<div>\n",
       "<style>\n",
       "    .dataframe thead tr:only-child th {\n",
       "        text-align: right;\n",
       "    }\n",
       "\n",
       "    .dataframe thead th {\n",
       "        text-align: left;\n",
       "    }\n",
       "\n",
       "    .dataframe tbody tr th {\n",
       "        vertical-align: top;\n",
       "    }\n",
       "</style>\n",
       "<table border=\"1\" class=\"dataframe\">\n",
       "  <thead>\n",
       "    <tr style=\"text-align: right;\">\n",
       "      <th></th>\n",
       "      <th>DEXBZUS</th>\n",
       "      <th>DEXUSEU</th>\n",
       "      <th>DEXUSAL</th>\n",
       "      <th>DEXSZUS</th>\n",
       "      <th>DEXUSUK</th>\n",
       "    </tr>\n",
       "    <tr>\n",
       "      <th>observation_date</th>\n",
       "      <th></th>\n",
       "      <th></th>\n",
       "      <th></th>\n",
       "      <th></th>\n",
       "      <th></th>\n",
       "    </tr>\n",
       "  </thead>\n",
       "  <tbody>\n",
       "    <tr>\n",
       "      <th>2015-01-01</th>\n",
       "      <td>NaN</td>\n",
       "      <td>NaN</td>\n",
       "      <td>NaN</td>\n",
       "      <td>NaN</td>\n",
       "      <td>NaN</td>\n",
       "    </tr>\n",
       "    <tr>\n",
       "      <th>2015-01-02</th>\n",
       "      <td>2.6967</td>\n",
       "      <td>1.2015</td>\n",
       "      <td>0.7379</td>\n",
       "      <td>1.2938</td>\n",
       "      <td>1.7404</td>\n",
       "    </tr>\n",
       "    <tr>\n",
       "      <th>2015-01-05</th>\n",
       "      <td>2.7284</td>\n",
       "      <td>1.1918</td>\n",
       "      <td>0.7465</td>\n",
       "      <td>1.2801</td>\n",
       "      <td>1.7588</td>\n",
       "    </tr>\n",
       "    <tr>\n",
       "      <th>2015-01-06</th>\n",
       "      <td>2.7013</td>\n",
       "      <td>1.1936</td>\n",
       "      <td>0.7482</td>\n",
       "      <td>1.2770</td>\n",
       "      <td>1.7566</td>\n",
       "    </tr>\n",
       "    <tr>\n",
       "      <th>2015-01-07</th>\n",
       "      <td>2.7000</td>\n",
       "      <td>1.1820</td>\n",
       "      <td>0.7528</td>\n",
       "      <td>1.2695</td>\n",
       "      <td>1.7697</td>\n",
       "    </tr>\n",
       "  </tbody>\n",
       "</table>\n",
       "</div>"
      ],
      "text/plain": [
       "                  DEXBZUS  DEXUSEU  DEXUSAL  DEXSZUS  DEXUSUK\n",
       "observation_date                                             \n",
       "2015-01-01            NaN      NaN      NaN      NaN      NaN\n",
       "2015-01-02         2.6967   1.2015   0.7379   1.2938   1.7404\n",
       "2015-01-05         2.7284   1.1918   0.7465   1.2801   1.7588\n",
       "2015-01-06         2.7013   1.1936   0.7482   1.2770   1.7566\n",
       "2015-01-07         2.7000   1.1820   0.7528   1.2695   1.7697"
      ]
     },
     "execution_count": 12,
     "metadata": {},
     "output_type": "execute_result"
    }
   ],
   "source": [
    "fd.head()"
   ]
  },
  {
   "cell_type": "code",
   "execution_count": 13,
   "metadata": {},
   "outputs": [
    {
     "data": {
      "text/html": [
       "<div>\n",
       "<style>\n",
       "    .dataframe thead tr:only-child th {\n",
       "        text-align: right;\n",
       "    }\n",
       "\n",
       "    .dataframe thead th {\n",
       "        text-align: left;\n",
       "    }\n",
       "\n",
       "    .dataframe tbody tr th {\n",
       "        vertical-align: top;\n",
       "    }\n",
       "</style>\n",
       "<table border=\"1\" class=\"dataframe\">\n",
       "  <thead>\n",
       "    <tr style=\"text-align: right;\">\n",
       "      <th></th>\n",
       "      <th>ADS_Index_111618</th>\n",
       "    </tr>\n",
       "    <tr>\n",
       "      <th>ADS_dates</th>\n",
       "      <th></th>\n",
       "    </tr>\n",
       "  </thead>\n",
       "  <tbody>\n",
       "    <tr>\n",
       "      <th>2015-01-01</th>\n",
       "      <td>-0.223363</td>\n",
       "    </tr>\n",
       "    <tr>\n",
       "      <th>2015-01-02</th>\n",
       "      <td>-0.234620</td>\n",
       "    </tr>\n",
       "    <tr>\n",
       "      <th>2015-01-05</th>\n",
       "      <td>-0.265741</td>\n",
       "    </tr>\n",
       "    <tr>\n",
       "      <th>2015-01-06</th>\n",
       "      <td>-0.275249</td>\n",
       "    </tr>\n",
       "    <tr>\n",
       "      <th>2015-01-07</th>\n",
       "      <td>-0.284261</td>\n",
       "    </tr>\n",
       "  </tbody>\n",
       "</table>\n",
       "</div>"
      ],
      "text/plain": [
       "            ADS_Index_111618\n",
       "ADS_dates                   \n",
       "2015-01-01         -0.223363\n",
       "2015-01-02         -0.234620\n",
       "2015-01-05         -0.265741\n",
       "2015-01-06         -0.275249\n",
       "2015-01-07         -0.284261"
      ]
     },
     "execution_count": 13,
     "metadata": {},
     "output_type": "execute_result"
    }
   ],
   "source": [
    "ads.head()"
   ]
  },
  {
   "cell_type": "code",
   "execution_count": 14,
   "metadata": {},
   "outputs": [
    {
     "data": {
      "text/html": [
       "<div>\n",
       "<style>\n",
       "    .dataframe thead tr:only-child th {\n",
       "        text-align: right;\n",
       "    }\n",
       "\n",
       "    .dataframe thead th {\n",
       "        text-align: left;\n",
       "    }\n",
       "\n",
       "    .dataframe tbody tr th {\n",
       "        vertical-align: top;\n",
       "    }\n",
       "</style>\n",
       "<table border=\"1\" class=\"dataframe\">\n",
       "  <thead>\n",
       "    <tr style=\"text-align: right;\">\n",
       "      <th></th>\n",
       "      <th>DEXBZUS</th>\n",
       "      <th>DEXUSEU</th>\n",
       "      <th>DEXUSAL</th>\n",
       "      <th>DEXSZUS</th>\n",
       "      <th>DEXUSUK</th>\n",
       "      <th>ADS_Index_111618</th>\n",
       "    </tr>\n",
       "    <tr>\n",
       "      <th>observation_date</th>\n",
       "      <th></th>\n",
       "      <th></th>\n",
       "      <th></th>\n",
       "      <th></th>\n",
       "      <th></th>\n",
       "      <th></th>\n",
       "    </tr>\n",
       "  </thead>\n",
       "  <tbody>\n",
       "    <tr>\n",
       "      <th>2015-01-01</th>\n",
       "      <td>NaN</td>\n",
       "      <td>NaN</td>\n",
       "      <td>NaN</td>\n",
       "      <td>NaN</td>\n",
       "      <td>NaN</td>\n",
       "      <td>-0.223363</td>\n",
       "    </tr>\n",
       "    <tr>\n",
       "      <th>2015-01-02</th>\n",
       "      <td>2.6967</td>\n",
       "      <td>1.2015</td>\n",
       "      <td>0.7379</td>\n",
       "      <td>1.2938</td>\n",
       "      <td>1.7404</td>\n",
       "      <td>-0.234620</td>\n",
       "    </tr>\n",
       "    <tr>\n",
       "      <th>2015-01-05</th>\n",
       "      <td>2.7284</td>\n",
       "      <td>1.1918</td>\n",
       "      <td>0.7465</td>\n",
       "      <td>1.2801</td>\n",
       "      <td>1.7588</td>\n",
       "      <td>-0.265741</td>\n",
       "    </tr>\n",
       "    <tr>\n",
       "      <th>2015-01-06</th>\n",
       "      <td>2.7013</td>\n",
       "      <td>1.1936</td>\n",
       "      <td>0.7482</td>\n",
       "      <td>1.2770</td>\n",
       "      <td>1.7566</td>\n",
       "      <td>-0.275249</td>\n",
       "    </tr>\n",
       "    <tr>\n",
       "      <th>2015-01-07</th>\n",
       "      <td>2.7000</td>\n",
       "      <td>1.1820</td>\n",
       "      <td>0.7528</td>\n",
       "      <td>1.2695</td>\n",
       "      <td>1.7697</td>\n",
       "      <td>-0.284261</td>\n",
       "    </tr>\n",
       "  </tbody>\n",
       "</table>\n",
       "</div>"
      ],
      "text/plain": [
       "                  DEXBZUS  DEXUSEU  DEXUSAL  DEXSZUS  DEXUSUK  \\\n",
       "observation_date                                                \n",
       "2015-01-01            NaN      NaN      NaN      NaN      NaN   \n",
       "2015-01-02         2.6967   1.2015   0.7379   1.2938   1.7404   \n",
       "2015-01-05         2.7284   1.1918   0.7465   1.2801   1.7588   \n",
       "2015-01-06         2.7013   1.1936   0.7482   1.2770   1.7566   \n",
       "2015-01-07         2.7000   1.1820   0.7528   1.2695   1.7697   \n",
       "\n",
       "                  ADS_Index_111618  \n",
       "observation_date                    \n",
       "2015-01-01               -0.223363  \n",
       "2015-01-02               -0.234620  \n",
       "2015-01-05               -0.265741  \n",
       "2015-01-06               -0.275249  \n",
       "2015-01-07               -0.284261  "
      ]
     },
     "execution_count": 14,
     "metadata": {},
     "output_type": "execute_result"
    }
   ],
   "source": [
    "fd = fd.merge(ads, left_index=True, right_index=True)\n",
    "fd.head()"
   ]
  },
  {
   "cell_type": "markdown",
   "metadata": {},
   "source": [
    "# Checking for Null Values "
   ]
  },
  {
   "cell_type": "code",
   "execution_count": 15,
   "metadata": {},
   "outputs": [
    {
     "data": {
      "text/plain": [
       "DEXBZUS             37\n",
       "DEXUSEU             37\n",
       "DEXUSAL             31\n",
       "DEXSZUS             31\n",
       "DEXUSUK             31\n",
       "ADS_Index_111618     0\n",
       "dtype: int64"
      ]
     },
     "execution_count": 15,
     "metadata": {},
     "output_type": "execute_result"
    }
   ],
   "source": [
    "fd.isnull().sum()"
   ]
  },
  {
   "cell_type": "code",
   "execution_count": 16,
   "metadata": {
    "collapsed": true
   },
   "outputs": [],
   "source": [
    "fd.dropna(inplace = True)"
   ]
  },
  {
   "cell_type": "code",
   "execution_count": 17,
   "metadata": {},
   "outputs": [
    {
     "data": {
      "text/plain": [
       "DEXBZUS             0\n",
       "DEXUSEU             0\n",
       "DEXUSAL             0\n",
       "DEXSZUS             0\n",
       "DEXUSUK             0\n",
       "ADS_Index_111618    0\n",
       "dtype: int64"
      ]
     },
     "execution_count": 17,
     "metadata": {},
     "output_type": "execute_result"
    }
   ],
   "source": [
    "fd.isnull().sum()"
   ]
  },
  {
   "cell_type": "markdown",
   "metadata": {},
   "source": [
    "# PCA"
   ]
  },
  {
   "cell_type": "code",
   "execution_count": 18,
   "metadata": {},
   "outputs": [
    {
     "data": {
      "text/plain": [
       "array([[-2.0918462 ,  1.45303421, -0.76178611,  1.5545308 , -0.48025235,\n",
       "        -0.21732979],\n",
       "       [-1.99445512,  1.25352947, -0.66019376,  1.38742547, -0.38395991,\n",
       "        -0.31866654],\n",
       "       [-2.07771374,  1.29055097, -0.64011155,  1.34961332, -0.39547314,\n",
       "        -0.34962589],\n",
       "       ..., \n",
       "       [ 2.39152289,  0.52955353,  0.4514156 , -1.29967704, -1.02974723,\n",
       "         1.14163894],\n",
       "       [ 2.40043249,  0.64061802,  0.54473881, -1.28138084, -1.01718734,\n",
       "         1.08887269],\n",
       "       [ 2.09474125,  0.54189403,  0.72311609, -1.46434288, -0.94706133,\n",
       "         0.98916819]])"
      ]
     },
     "execution_count": 18,
     "metadata": {},
     "output_type": "execute_result"
    }
   ],
   "source": [
    "from sklearn.preprocessing import StandardScaler\n",
    "from math import sqrt\n",
    "import numpy as np\n",
    "normalise = StandardScaler().fit_transform(fd.values)\n",
    "normalise"
   ]
  },
  {
   "cell_type": "code",
   "execution_count": 19,
   "metadata": {},
   "outputs": [
    {
     "name": "stdout",
     "output_type": "stream",
     "text": [
      "Covariance matrix \n",
      "[[ 1.00111483 -0.0347709  -0.06008077  0.02922658  0.00370787 -0.06687308]\n",
      " [-0.0347709   1.00111483 -0.50418154 -0.13320191 -0.76986961  0.36842969]\n",
      " [-0.06008077 -0.50418154  1.00111483 -0.55919743  0.74919719 -0.05568945]\n",
      " [ 0.02922658 -0.13320191 -0.55919743  1.00111483  0.02338769 -0.51281972]\n",
      " [ 0.00370787 -0.76986961  0.74919719  0.02338769  1.00111483 -0.42845543]\n",
      " [-0.06687308  0.36842969 -0.05568945 -0.51281972 -0.42845543  1.00111483]]\n"
     ]
    }
   ],
   "source": [
    "import numpy as np\n",
    "mean_vec = np.mean(normalise, axis=0)\n",
    "cov_mat = (normalise - mean_vec).T.dot((normalise - mean_vec)) / (normalise.shape[0]-1)\n",
    "print('Covariance matrix \\n%s' %cov_mat)"
   ]
  },
  {
   "cell_type": "code",
   "execution_count": 20,
   "metadata": {},
   "outputs": [
    {
     "name": "stdout",
     "output_type": "stream",
     "text": [
      "Eigenvectors \n",
      "[[-0.00769442  0.11578311  0.99134049 -0.03218116 -0.05170208  0.0083888 ]\n",
      " [ 0.54193179 -0.10749279 -0.00673232  0.06734598 -0.58765729 -0.58722512]\n",
      " [-0.49386983 -0.43107993  0.01486233 -0.68288137 -0.22001185 -0.23517997]\n",
      " [ 0.0193086   0.71437894 -0.12328387 -0.42274044 -0.45576162  0.29607914]\n",
      " [-0.60364773  0.00429089 -0.01423843  0.59031208 -0.53382193  0.04420488]\n",
      " [ 0.31237784 -0.52806627  0.03970109 -0.03039902 -0.33301064  0.71426167]]\n",
      "\n",
      "Eigenvalues \n",
      "[ 2.52624212  1.74254784  0.9940842   0.05171524  0.21542861  0.47667095]\n"
     ]
    }
   ],
   "source": [
    "cov_mat = np.cov(normalise.T)\n",
    "\n",
    "eig_val, eig_vec = np.linalg.eig(cov_mat)\n",
    "\n",
    "print('Eigenvectors \\n%s' %eig_vec)\n",
    "print('\\nEigenvalues \\n%s' %eig_val)"
   ]
  },
  {
   "cell_type": "code",
   "execution_count": 21,
   "metadata": {},
   "outputs": [
    {
     "name": "stdout",
     "output_type": "stream",
     "text": [
      "Eigenvectors  \n",
      "[[-0.00769442  0.11578311  0.99134049 -0.03218116 -0.05170208  0.0083888 ]\n",
      " [ 0.54193179 -0.10749279 -0.00673232  0.06734598 -0.58765729 -0.58722512]\n",
      " [-0.49386983 -0.43107993  0.01486233 -0.68288137 -0.22001185 -0.23517997]\n",
      " [ 0.0193086   0.71437894 -0.12328387 -0.42274044 -0.45576162  0.29607914]\n",
      " [-0.60364773  0.00429089 -0.01423843  0.59031208 -0.53382193  0.04420488]\n",
      " [ 0.31237784 -0.52806627  0.03970109 -0.03039902 -0.33301064  0.71426167]]\n",
      "\n",
      "Eigenvalues  \n",
      "[ 2.52342894  1.74060736  0.9929772   0.05165765  0.21518872  0.47614014]\n"
     ]
    }
   ],
   "source": [
    "cor_mat_1 = np.corrcoef(normalise.T)\n",
    "\n",
    "eig_vals, eig_vecs = np.linalg.eig(cor_mat_1)\n",
    "\n",
    "print('Eigenvectors  \\n%s' %eig_vecs)\n",
    "print('\\nEigenvalues  \\n%s' %eig_vals)"
   ]
  },
  {
   "cell_type": "code",
   "execution_count": 22,
   "metadata": {},
   "outputs": [
    {
     "name": "stdout",
     "output_type": "stream",
     "text": [
      "Eigenvectors raw  \n",
      "[[-0.00769442  0.11578311  0.99134049 -0.03218116 -0.05170208  0.0083888 ]\n",
      " [ 0.54193179 -0.10749279 -0.00673232  0.06734598 -0.58765729 -0.58722512]\n",
      " [-0.49386983 -0.43107993  0.01486233 -0.68288137 -0.22001185 -0.23517997]\n",
      " [ 0.0193086   0.71437894 -0.12328387 -0.42274044 -0.45576162  0.29607914]\n",
      " [-0.60364773  0.00429089 -0.01423843  0.59031208 -0.53382193  0.04420488]\n",
      " [ 0.31237784 -0.52806627  0.03970109 -0.03039902 -0.33301064  0.71426167]]\n",
      "\n",
      "Eigenvalues raw  \n",
      "[ 2.52342894  1.74060736  0.9929772   0.05165765  0.21518872  0.47614014]\n"
     ]
    }
   ],
   "source": [
    "cor_mat_2 = np.corrcoef(normalise.T)\n",
    "\n",
    "eig_valss, eig_vecss = np.linalg.eig(cor_mat_2)\n",
    "\n",
    "print('Eigenvectors raw  \\n%s' %eig_vecss)\n",
    "print('\\nEigenvalues raw  \\n%s' %eig_valss)"
   ]
  },
  {
   "cell_type": "code",
   "execution_count": 23,
   "metadata": {},
   "outputs": [
    {
     "name": "stdout",
     "output_type": "stream",
     "text": [
      "Everything ok!\n"
     ]
    }
   ],
   "source": [
    "for ev in eig_vecs:\n",
    "    np.testing.assert_array_almost_equal(1.0, np.linalg.norm(ev))\n",
    "print('Everything ok!')"
   ]
  },
  {
   "cell_type": "code",
   "execution_count": 24,
   "metadata": {},
   "outputs": [
    {
     "name": "stdout",
     "output_type": "stream",
     "text": [
      "Eigenvalues in descending order:\n",
      "2.52342893686\n",
      "1.74060736024\n",
      "0.992977201727\n",
      "0.47614013843\n",
      "0.215188715698\n",
      "0.0516576470485\n"
     ]
    }
   ],
   "source": [
    "# Make a list of (eigenvalue, eigenvector) tuples\n",
    "eig_pairs = [(np.abs(eig_vals[i]), eig_vecs[:,i]) for i in range(len(eig_vals))]\n",
    "\n",
    "# Sort the (eigenvalue, eigenvector) tuples from high to low\n",
    "eig_pairs.sort()\n",
    "eig_pairs.reverse()\n",
    "\n",
    "# Visually confirm that the list is correctly sorted by decreasing eigenvalues\n",
    "print('Eigenvalues in descending order:')\n",
    "for i in eig_pairs:\n",
    "    print(i[0])"
   ]
  },
  {
   "cell_type": "code",
   "execution_count": 25,
   "metadata": {},
   "outputs": [
    {
     "name": "stdout",
     "output_type": "stream",
     "text": [
      "Requirement already satisfied: plotly in c:\\programdata\\anaconda3\\lib\\site-packages\n",
      "Requirement already satisfied: six in c:\\programdata\\anaconda3\\lib\\site-packages (from plotly)\n",
      "Requirement already satisfied: decorator>=4.0.6 in c:\\programdata\\anaconda3\\lib\\site-packages (from plotly)\n",
      "Requirement already satisfied: pytz in c:\\programdata\\anaconda3\\lib\\site-packages (from plotly)\n",
      "Requirement already satisfied: nbformat>=4.2 in c:\\programdata\\anaconda3\\lib\\site-packages (from plotly)\n",
      "Requirement already satisfied: requests in c:\\programdata\\anaconda3\\lib\\site-packages (from plotly)\n",
      "Requirement already satisfied: ipython_genutils in c:\\programdata\\anaconda3\\lib\\site-packages (from nbformat>=4.2->plotly)\n",
      "Requirement already satisfied: traitlets>=4.1 in c:\\programdata\\anaconda3\\lib\\site-packages (from nbformat>=4.2->plotly)\n",
      "Requirement already satisfied: jsonschema!=2.5.0,>=2.4 in c:\\programdata\\anaconda3\\lib\\site-packages (from nbformat>=4.2->plotly)\n",
      "Requirement already satisfied: jupyter_core in c:\\programdata\\anaconda3\\lib\\site-packages (from nbformat>=4.2->plotly)\n",
      "Requirement already satisfied: chardet<3.1.0,>=3.0.2 in c:\\programdata\\anaconda3\\lib\\site-packages (from requests->plotly)\n",
      "Requirement already satisfied: idna<2.7,>=2.5 in c:\\programdata\\anaconda3\\lib\\site-packages (from requests->plotly)\n",
      "Requirement already satisfied: urllib3<1.23,>=1.21.1 in c:\\programdata\\anaconda3\\lib\\site-packages (from requests->plotly)\n",
      "Requirement already satisfied: certifi>=2017.4.17 in c:\\programdata\\anaconda3\\lib\\site-packages (from requests->plotly)\n"
     ]
    },
    {
     "name": "stderr",
     "output_type": "stream",
     "text": [
      "You are using pip version 9.0.1, however version 18.1 is available.\n",
      "You should consider upgrading via the 'python -m pip install --upgrade pip' command.\n"
     ]
    }
   ],
   "source": [
    "!pip install plotly"
   ]
  },
  {
   "cell_type": "code",
   "execution_count": 26,
   "metadata": {},
   "outputs": [
    {
     "data": {
      "text/html": [
       "<iframe id=\"igraph\" scrolling=\"no\" style=\"border:none;\" seamless=\"seamless\" src=\"https://plot.ly/~dutta.r/32.embed\" height=\"525px\" width=\"100%\"></iframe>"
      ],
      "text/plain": [
       "<plotly.tools.PlotlyDisplay object>"
      ]
     },
     "execution_count": 26,
     "metadata": {},
     "output_type": "execute_result"
    }
   ],
   "source": [
    "import plotly.plotly as py\n",
    "from plotly.graph_objs import *\n",
    "import plotly.tools as tls\n",
    "\n",
    "py.plotly.tools.set_credentials_file(username='dutta.r', api_key='y2fHU1NeFjgaJrn6xyHx')\n",
    "\n",
    "tot = sum(eig_vals)\n",
    "var_exp = [(i / tot)*100 for i in sorted(eig_vals, reverse=True)]\n",
    "cum_var_exp = np.cumsum(var_exp)\n",
    "\n",
    "trace1 = Bar(\n",
    "        x=['PC %s' %i for i in range(1,5)],\n",
    "        y=var_exp,\n",
    "        showlegend=False)\n",
    "\n",
    "trace2 = Scatter(\n",
    "        x=['PC %s' %i for i in range(1,5)], \n",
    "        y=cum_var_exp,\n",
    "        name='cumulative explained variance')\n",
    "\n",
    "data = Data([trace1, trace2])\n",
    "\n",
    "layout=Layout(\n",
    "        yaxis=YAxis(title='Explained variance in percent'),\n",
    "        title='Explained variance by different principal components')\n",
    "\n",
    "fig = Figure(data=data, layout=layout)\n",
    "py.iplot(fig)"
   ]
  },
  {
   "cell_type": "code",
   "execution_count": 27,
   "metadata": {},
   "outputs": [
    {
     "name": "stdout",
     "output_type": "stream",
     "text": [
      "Eigen Vector Matrix \"W\": \n",
      " [[-0.00769442  0.11578311]\n",
      " [ 0.54193179 -0.10749279]\n",
      " [-0.49386983 -0.43107993]\n",
      " [ 0.0193086   0.71437894]\n",
      " [-0.60364773  0.00429089]\n",
      " [ 0.31237784 -0.52806627]]\n"
     ]
    }
   ],
   "source": [
    "matrix_w = np.hstack((eig_pairs[0][1].reshape(6,1), \n",
    "                      eig_pairs[1][1].reshape(6,1)))\n",
    "\n",
    "print('Eigen Vector Matrix \"W\": \\n', matrix_w)"
   ]
  },
  {
   "cell_type": "code",
   "execution_count": 28,
   "metadata": {},
   "outputs": [
    {
     "data": {
      "text/plain": [
       "array([[-0.00769442,  0.11578311],\n",
       "       [ 0.54193179, -0.10749279],\n",
       "       [-0.49386983, -0.43107993],\n",
       "       [ 0.0193086 ,  0.71437894],\n",
       "       [-0.60364773,  0.00429089],\n",
       "       [ 0.31237784, -0.52806627]])"
      ]
     },
     "execution_count": 28,
     "metadata": {},
     "output_type": "execute_result"
    }
   ],
   "source": [
    "Y = normalise.dot(matrix_w)\n",
    "matrix_w"
   ]
  },
  {
   "cell_type": "code",
   "execution_count": 29,
   "metadata": {},
   "outputs": [
    {
     "data": {
      "text/plain": [
       "(898, 3)"
      ]
     },
     "execution_count": 29,
     "metadata": {},
     "output_type": "execute_result"
    }
   ],
   "source": [
    "from sklearn.decomposition import PCA as sklearnPCA\n",
    "sklearn_pca= sklearnPCA(n_components=3)\n",
    "Y_sklearn = sklearn_pca.fit_transform(normalise)\n",
    "Y_sklearn.shape"
   ]
  },
  {
   "cell_type": "code",
   "execution_count": 30,
   "metadata": {
    "collapsed": true
   },
   "outputs": [],
   "source": [
    "pca1=[]\n",
    "for a in Y_sklearn:\n",
    "    pca1.append(a[0])"
   ]
  },
  {
   "cell_type": "code",
   "execution_count": 31,
   "metadata": {
    "collapsed": true
   },
   "outputs": [],
   "source": [
    "pca2=[]\n",
    "for a in Y_sklearn:\n",
    "    pca2.append(a[1])"
   ]
  },
  {
   "cell_type": "code",
   "execution_count": 32,
   "metadata": {
    "collapsed": true
   },
   "outputs": [],
   "source": [
    "pca3=[]\n",
    "for a in Y_sklearn:\n",
    "    pca3.append(a[2])"
   ]
  },
  {
   "cell_type": "code",
   "execution_count": 33,
   "metadata": {
    "collapsed": true
   },
   "outputs": [],
   "source": [
    "data = fd\n",
    "data['PC1'] = pca1\n",
    "data['PC2'] = pca2\n",
    "data['PC3'] = pca3"
   ]
  },
  {
   "cell_type": "code",
   "execution_count": 34,
   "metadata": {},
   "outputs": [
    {
     "data": {
      "text/html": [
       "<div>\n",
       "<style>\n",
       "    .dataframe thead tr:only-child th {\n",
       "        text-align: right;\n",
       "    }\n",
       "\n",
       "    .dataframe thead th {\n",
       "        text-align: left;\n",
       "    }\n",
       "\n",
       "    .dataframe tbody tr th {\n",
       "        vertical-align: top;\n",
       "    }\n",
       "</style>\n",
       "<table border=\"1\" class=\"dataframe\">\n",
       "  <thead>\n",
       "    <tr style=\"text-align: right;\">\n",
       "      <th></th>\n",
       "      <th>DEXBZUS</th>\n",
       "      <th>DEXUSEU</th>\n",
       "      <th>DEXUSAL</th>\n",
       "      <th>DEXSZUS</th>\n",
       "      <th>DEXUSUK</th>\n",
       "      <th>ADS_Index_111618</th>\n",
       "      <th>PC1</th>\n",
       "      <th>PC2</th>\n",
       "      <th>PC3</th>\n",
       "    </tr>\n",
       "    <tr>\n",
       "      <th>observation_date</th>\n",
       "      <th></th>\n",
       "      <th></th>\n",
       "      <th></th>\n",
       "      <th></th>\n",
       "      <th></th>\n",
       "      <th></th>\n",
       "      <th></th>\n",
       "      <th></th>\n",
       "      <th></th>\n",
       "    </tr>\n",
       "  </thead>\n",
       "  <tbody>\n",
       "    <tr>\n",
       "      <th>2015-01-02</th>\n",
       "      <td>2.6967</td>\n",
       "      <td>1.2015</td>\n",
       "      <td>0.7379</td>\n",
       "      <td>1.2938</td>\n",
       "      <td>1.7404</td>\n",
       "      <td>-0.234620</td>\n",
       "      <td>1.431794</td>\n",
       "      <td>-1.153227</td>\n",
       "      <td>-2.288275</td>\n",
       "    </tr>\n",
       "    <tr>\n",
       "      <th>2015-01-05</th>\n",
       "      <td>2.7284</td>\n",
       "      <td>1.1918</td>\n",
       "      <td>0.7465</td>\n",
       "      <td>1.2801</td>\n",
       "      <td>1.7588</td>\n",
       "      <td>-0.265741</td>\n",
       "      <td>1.179745</td>\n",
       "      <td>-1.076704</td>\n",
       "      <td>-2.173667</td>\n",
       "    </tr>\n",
       "    <tr>\n",
       "      <th>2015-01-06</th>\n",
       "      <td>2.7013</td>\n",
       "      <td>1.1936</td>\n",
       "      <td>0.7482</td>\n",
       "      <td>1.2770</td>\n",
       "      <td>1.7566</td>\n",
       "      <td>-0.275249</td>\n",
       "      <td>1.187079</td>\n",
       "      <td>-1.043714</td>\n",
       "      <td>-2.252559</td>\n",
       "    </tr>\n",
       "    <tr>\n",
       "      <th>2015-01-07</th>\n",
       "      <td>2.7000</td>\n",
       "      <td>1.1820</td>\n",
       "      <td>0.7528</td>\n",
       "      <td>1.2695</td>\n",
       "      <td>1.7697</td>\n",
       "      <td>-0.284261</td>\n",
       "      <td>0.978661</td>\n",
       "      <td>-0.995910</td>\n",
       "      <td>-2.244967</td>\n",
       "    </tr>\n",
       "    <tr>\n",
       "      <th>2015-01-08</th>\n",
       "      <td>2.6635</td>\n",
       "      <td>1.1811</td>\n",
       "      <td>0.7517</td>\n",
       "      <td>1.2794</td>\n",
       "      <td>1.7645</td>\n",
       "      <td>-0.292778</td>\n",
       "      <td>0.986006</td>\n",
       "      <td>-1.091310</td>\n",
       "      <td>-2.371803</td>\n",
       "    </tr>\n",
       "  </tbody>\n",
       "</table>\n",
       "</div>"
      ],
      "text/plain": [
       "                  DEXBZUS  DEXUSEU  DEXUSAL  DEXSZUS  DEXUSUK  \\\n",
       "observation_date                                                \n",
       "2015-01-02         2.6967   1.2015   0.7379   1.2938   1.7404   \n",
       "2015-01-05         2.7284   1.1918   0.7465   1.2801   1.7588   \n",
       "2015-01-06         2.7013   1.1936   0.7482   1.2770   1.7566   \n",
       "2015-01-07         2.7000   1.1820   0.7528   1.2695   1.7697   \n",
       "2015-01-08         2.6635   1.1811   0.7517   1.2794   1.7645   \n",
       "\n",
       "                  ADS_Index_111618       PC1       PC2       PC3  \n",
       "observation_date                                                  \n",
       "2015-01-02               -0.234620  1.431794 -1.153227 -2.288275  \n",
       "2015-01-05               -0.265741  1.179745 -1.076704 -2.173667  \n",
       "2015-01-06               -0.275249  1.187079 -1.043714 -2.252559  \n",
       "2015-01-07               -0.284261  0.978661 -0.995910 -2.244967  \n",
       "2015-01-08               -0.292778  0.986006 -1.091310 -2.371803  "
      ]
     },
     "execution_count": 34,
     "metadata": {},
     "output_type": "execute_result"
    }
   ],
   "source": [
    "data.head()"
   ]
  },
  {
   "cell_type": "code",
   "execution_count": 35,
   "metadata": {},
   "outputs": [
    {
     "data": {
      "text/plain": [
       "(898, 9)"
      ]
     },
     "execution_count": 35,
     "metadata": {},
     "output_type": "execute_result"
    }
   ],
   "source": [
    "data.shape"
   ]
  },
  {
   "cell_type": "code",
   "execution_count": 36,
   "metadata": {
    "collapsed": true
   },
   "outputs": [],
   "source": [
    "data['constant'] = np.ones((898,1), dtype=np.float64, order='C')"
   ]
  },
  {
   "cell_type": "code",
   "execution_count": 37,
   "metadata": {},
   "outputs": [
    {
     "data": {
      "text/plain": [
       "(898, 10)"
      ]
     },
     "execution_count": 37,
     "metadata": {},
     "output_type": "execute_result"
    }
   ],
   "source": [
    "data.shape"
   ]
  },
  {
   "cell_type": "code",
   "execution_count": 38,
   "metadata": {},
   "outputs": [
    {
     "data": {
      "text/html": [
       "<div>\n",
       "<style>\n",
       "    .dataframe thead tr:only-child th {\n",
       "        text-align: right;\n",
       "    }\n",
       "\n",
       "    .dataframe thead th {\n",
       "        text-align: left;\n",
       "    }\n",
       "\n",
       "    .dataframe tbody tr th {\n",
       "        vertical-align: top;\n",
       "    }\n",
       "</style>\n",
       "<table border=\"1\" class=\"dataframe\">\n",
       "  <thead>\n",
       "    <tr style=\"text-align: right;\">\n",
       "      <th></th>\n",
       "      <th>DEXBZUS</th>\n",
       "      <th>DEXUSEU</th>\n",
       "      <th>DEXUSAL</th>\n",
       "      <th>DEXSZUS</th>\n",
       "      <th>DEXUSUK</th>\n",
       "      <th>ADS_Index_111618</th>\n",
       "      <th>PC1</th>\n",
       "      <th>PC2</th>\n",
       "      <th>PC3</th>\n",
       "      <th>constant</th>\n",
       "    </tr>\n",
       "    <tr>\n",
       "      <th>observation_date</th>\n",
       "      <th></th>\n",
       "      <th></th>\n",
       "      <th></th>\n",
       "      <th></th>\n",
       "      <th></th>\n",
       "      <th></th>\n",
       "      <th></th>\n",
       "      <th></th>\n",
       "      <th></th>\n",
       "      <th></th>\n",
       "    </tr>\n",
       "  </thead>\n",
       "  <tbody>\n",
       "    <tr>\n",
       "      <th>2015-01-02</th>\n",
       "      <td>2.6967</td>\n",
       "      <td>1.2015</td>\n",
       "      <td>0.7379</td>\n",
       "      <td>1.2938</td>\n",
       "      <td>1.7404</td>\n",
       "      <td>-0.234620</td>\n",
       "      <td>1.431794</td>\n",
       "      <td>-1.153227</td>\n",
       "      <td>-2.288275</td>\n",
       "      <td>1.0</td>\n",
       "    </tr>\n",
       "    <tr>\n",
       "      <th>2015-01-05</th>\n",
       "      <td>2.7284</td>\n",
       "      <td>1.1918</td>\n",
       "      <td>0.7465</td>\n",
       "      <td>1.2801</td>\n",
       "      <td>1.7588</td>\n",
       "      <td>-0.265741</td>\n",
       "      <td>1.179745</td>\n",
       "      <td>-1.076704</td>\n",
       "      <td>-2.173667</td>\n",
       "      <td>1.0</td>\n",
       "    </tr>\n",
       "    <tr>\n",
       "      <th>2015-01-06</th>\n",
       "      <td>2.7013</td>\n",
       "      <td>1.1936</td>\n",
       "      <td>0.7482</td>\n",
       "      <td>1.2770</td>\n",
       "      <td>1.7566</td>\n",
       "      <td>-0.275249</td>\n",
       "      <td>1.187079</td>\n",
       "      <td>-1.043714</td>\n",
       "      <td>-2.252559</td>\n",
       "      <td>1.0</td>\n",
       "    </tr>\n",
       "    <tr>\n",
       "      <th>2015-01-07</th>\n",
       "      <td>2.7000</td>\n",
       "      <td>1.1820</td>\n",
       "      <td>0.7528</td>\n",
       "      <td>1.2695</td>\n",
       "      <td>1.7697</td>\n",
       "      <td>-0.284261</td>\n",
       "      <td>0.978661</td>\n",
       "      <td>-0.995910</td>\n",
       "      <td>-2.244967</td>\n",
       "      <td>1.0</td>\n",
       "    </tr>\n",
       "    <tr>\n",
       "      <th>2015-01-08</th>\n",
       "      <td>2.6635</td>\n",
       "      <td>1.1811</td>\n",
       "      <td>0.7517</td>\n",
       "      <td>1.2794</td>\n",
       "      <td>1.7645</td>\n",
       "      <td>-0.292778</td>\n",
       "      <td>0.986006</td>\n",
       "      <td>-1.091310</td>\n",
       "      <td>-2.371803</td>\n",
       "      <td>1.0</td>\n",
       "    </tr>\n",
       "  </tbody>\n",
       "</table>\n",
       "</div>"
      ],
      "text/plain": [
       "                  DEXBZUS  DEXUSEU  DEXUSAL  DEXSZUS  DEXUSUK  \\\n",
       "observation_date                                                \n",
       "2015-01-02         2.6967   1.2015   0.7379   1.2938   1.7404   \n",
       "2015-01-05         2.7284   1.1918   0.7465   1.2801   1.7588   \n",
       "2015-01-06         2.7013   1.1936   0.7482   1.2770   1.7566   \n",
       "2015-01-07         2.7000   1.1820   0.7528   1.2695   1.7697   \n",
       "2015-01-08         2.6635   1.1811   0.7517   1.2794   1.7645   \n",
       "\n",
       "                  ADS_Index_111618       PC1       PC2       PC3  constant  \n",
       "observation_date                                                            \n",
       "2015-01-02               -0.234620  1.431794 -1.153227 -2.288275       1.0  \n",
       "2015-01-05               -0.265741  1.179745 -1.076704 -2.173667       1.0  \n",
       "2015-01-06               -0.275249  1.187079 -1.043714 -2.252559       1.0  \n",
       "2015-01-07               -0.284261  0.978661 -0.995910 -2.244967       1.0  \n",
       "2015-01-08               -0.292778  0.986006 -1.091310 -2.371803       1.0  "
      ]
     },
     "execution_count": 38,
     "metadata": {},
     "output_type": "execute_result"
    }
   ],
   "source": [
    "data.head()"
   ]
  },
  {
   "cell_type": "markdown",
   "metadata": {},
   "source": [
    "# DIVIDE the data into train and test set"
   ]
  },
  {
   "cell_type": "code",
   "execution_count": 39,
   "metadata": {
    "collapsed": true
   },
   "outputs": [],
   "source": [
    "train = data.iloc[:628,]\n",
    "test = data.iloc[628:,]"
   ]
  },
  {
   "cell_type": "code",
   "execution_count": 40,
   "metadata": {},
   "outputs": [
    {
     "data": {
      "text/plain": [
       "(628, 10)"
      ]
     },
     "execution_count": 40,
     "metadata": {},
     "output_type": "execute_result"
    }
   ],
   "source": [
    "train.shape"
   ]
  },
  {
   "cell_type": "code",
   "execution_count": 41,
   "metadata": {},
   "outputs": [
    {
     "data": {
      "text/html": [
       "<div>\n",
       "<style>\n",
       "    .dataframe thead tr:only-child th {\n",
       "        text-align: right;\n",
       "    }\n",
       "\n",
       "    .dataframe thead th {\n",
       "        text-align: left;\n",
       "    }\n",
       "\n",
       "    .dataframe tbody tr th {\n",
       "        vertical-align: top;\n",
       "    }\n",
       "</style>\n",
       "<table border=\"1\" class=\"dataframe\">\n",
       "  <thead>\n",
       "    <tr style=\"text-align: right;\">\n",
       "      <th></th>\n",
       "      <th>DEXBZUS</th>\n",
       "      <th>DEXUSEU</th>\n",
       "      <th>DEXUSAL</th>\n",
       "      <th>DEXSZUS</th>\n",
       "      <th>DEXUSUK</th>\n",
       "      <th>ADS_Index_111618</th>\n",
       "      <th>PC1</th>\n",
       "      <th>PC2</th>\n",
       "      <th>PC3</th>\n",
       "      <th>constant</th>\n",
       "    </tr>\n",
       "    <tr>\n",
       "      <th>observation_date</th>\n",
       "      <th></th>\n",
       "      <th></th>\n",
       "      <th></th>\n",
       "      <th></th>\n",
       "      <th></th>\n",
       "      <th></th>\n",
       "      <th></th>\n",
       "      <th></th>\n",
       "      <th></th>\n",
       "      <th></th>\n",
       "    </tr>\n",
       "  </thead>\n",
       "  <tbody>\n",
       "    <tr>\n",
       "      <th>2017-07-31</th>\n",
       "      <td>3.1338</td>\n",
       "      <td>1.1826</td>\n",
       "      <td>0.9434</td>\n",
       "      <td>1.0484</td>\n",
       "      <td>1.9810</td>\n",
       "      <td>-0.297080</td>\n",
       "      <td>-0.869509</td>\n",
       "      <td>1.721507</td>\n",
       "      <td>-0.575298</td>\n",
       "      <td>1.0</td>\n",
       "    </tr>\n",
       "    <tr>\n",
       "      <th>2017-08-01</th>\n",
       "      <td>3.1143</td>\n",
       "      <td>1.1799</td>\n",
       "      <td>0.9415</td>\n",
       "      <td>1.0489</td>\n",
       "      <td>1.9806</td>\n",
       "      <td>-0.302087</td>\n",
       "      <td>-0.891770</td>\n",
       "      <td>1.699841</td>\n",
       "      <td>-0.636018</td>\n",
       "      <td>1.0</td>\n",
       "    </tr>\n",
       "    <tr>\n",
       "      <th>2017-08-02</th>\n",
       "      <td>3.1165</td>\n",
       "      <td>1.1861</td>\n",
       "      <td>0.9317</td>\n",
       "      <td>1.0480</td>\n",
       "      <td>1.9743</td>\n",
       "      <td>-0.307402</td>\n",
       "      <td>-0.751257</td>\n",
       "      <td>1.661705</td>\n",
       "      <td>-0.630761</td>\n",
       "      <td>1.0</td>\n",
       "    </tr>\n",
       "    <tr>\n",
       "      <th>2017-08-03</th>\n",
       "      <td>3.1209</td>\n",
       "      <td>1.1880</td>\n",
       "      <td>0.9299</td>\n",
       "      <td>1.0492</td>\n",
       "      <td>1.9606</td>\n",
       "      <td>-0.312548</td>\n",
       "      <td>-0.681354</td>\n",
       "      <td>1.636178</td>\n",
       "      <td>-0.619388</td>\n",
       "      <td>1.0</td>\n",
       "    </tr>\n",
       "    <tr>\n",
       "      <th>2017-08-04</th>\n",
       "      <td>3.1176</td>\n",
       "      <td>1.1754</td>\n",
       "      <td>0.9157</td>\n",
       "      <td>1.0548</td>\n",
       "      <td>1.9532</td>\n",
       "      <td>-0.317523</td>\n",
       "      <td>-0.719239</td>\n",
       "      <td>1.479998</td>\n",
       "      <td>-0.638699</td>\n",
       "      <td>1.0</td>\n",
       "    </tr>\n",
       "  </tbody>\n",
       "</table>\n",
       "</div>"
      ],
      "text/plain": [
       "                  DEXBZUS  DEXUSEU  DEXUSAL  DEXSZUS  DEXUSUK  \\\n",
       "observation_date                                                \n",
       "2017-07-31         3.1338   1.1826   0.9434   1.0484   1.9810   \n",
       "2017-08-01         3.1143   1.1799   0.9415   1.0489   1.9806   \n",
       "2017-08-02         3.1165   1.1861   0.9317   1.0480   1.9743   \n",
       "2017-08-03         3.1209   1.1880   0.9299   1.0492   1.9606   \n",
       "2017-08-04         3.1176   1.1754   0.9157   1.0548   1.9532   \n",
       "\n",
       "                  ADS_Index_111618       PC1       PC2       PC3  constant  \n",
       "observation_date                                                            \n",
       "2017-07-31               -0.297080 -0.869509  1.721507 -0.575298       1.0  \n",
       "2017-08-01               -0.302087 -0.891770  1.699841 -0.636018       1.0  \n",
       "2017-08-02               -0.307402 -0.751257  1.661705 -0.630761       1.0  \n",
       "2017-08-03               -0.312548 -0.681354  1.636178 -0.619388       1.0  \n",
       "2017-08-04               -0.317523 -0.719239  1.479998 -0.638699       1.0  "
      ]
     },
     "execution_count": 41,
     "metadata": {},
     "output_type": "execute_result"
    }
   ],
   "source": [
    "test.head()"
   ]
  },
  {
   "cell_type": "markdown",
   "metadata": {},
   "source": [
    "# Bootstrap 3 times"
   ]
  },
  {
   "cell_type": "code",
   "execution_count": 42,
   "metadata": {},
   "outputs": [
    {
     "data": {
      "text/html": [
       "<div>\n",
       "<style>\n",
       "    .dataframe thead tr:only-child th {\n",
       "        text-align: right;\n",
       "    }\n",
       "\n",
       "    .dataframe thead th {\n",
       "        text-align: left;\n",
       "    }\n",
       "\n",
       "    .dataframe tbody tr th {\n",
       "        vertical-align: top;\n",
       "    }\n",
       "</style>\n",
       "<table border=\"1\" class=\"dataframe\">\n",
       "  <thead>\n",
       "    <tr style=\"text-align: right;\">\n",
       "      <th></th>\n",
       "      <th>DEXBZUS</th>\n",
       "      <th>DEXUSEU</th>\n",
       "      <th>DEXUSAL</th>\n",
       "      <th>DEXSZUS</th>\n",
       "      <th>DEXUSUK</th>\n",
       "      <th>ADS_Index_111618</th>\n",
       "      <th>PC1</th>\n",
       "      <th>PC2</th>\n",
       "      <th>PC3</th>\n",
       "      <th>constant</th>\n",
       "    </tr>\n",
       "    <tr>\n",
       "      <th>observation_date</th>\n",
       "      <th></th>\n",
       "      <th></th>\n",
       "      <th></th>\n",
       "      <th></th>\n",
       "      <th></th>\n",
       "      <th></th>\n",
       "      <th></th>\n",
       "      <th></th>\n",
       "      <th></th>\n",
       "      <th></th>\n",
       "    </tr>\n",
       "  </thead>\n",
       "  <tbody>\n",
       "    <tr>\n",
       "      <th>2016-04-04</th>\n",
       "      <td>3.5994</td>\n",
       "      <td>1.1386</td>\n",
       "      <td>0.8180</td>\n",
       "      <td>1.2194</td>\n",
       "      <td>1.9756</td>\n",
       "      <td>-0.530705</td>\n",
       "      <td>-0.819649</td>\n",
       "      <td>-1.071593</td>\n",
       "      <td>0.539901</td>\n",
       "      <td>1.0</td>\n",
       "    </tr>\n",
       "    <tr>\n",
       "      <th>2015-04-28</th>\n",
       "      <td>2.9002</td>\n",
       "      <td>1.0979</td>\n",
       "      <td>0.7564</td>\n",
       "      <td>1.2611</td>\n",
       "      <td>1.8011</td>\n",
       "      <td>-0.343663</td>\n",
       "      <td>-0.146061</td>\n",
       "      <td>-1.264375</td>\n",
       "      <td>-1.620334</td>\n",
       "      <td>1.0</td>\n",
       "    </tr>\n",
       "    <tr>\n",
       "      <th>2015-10-02</th>\n",
       "      <td>3.9712</td>\n",
       "      <td>1.1276</td>\n",
       "      <td>0.7442</td>\n",
       "      <td>1.2453</td>\n",
       "      <td>1.8873</td>\n",
       "      <td>-0.481667</td>\n",
       "      <td>-0.185565</td>\n",
       "      <td>-1.743367</td>\n",
       "      <td>1.634819</td>\n",
       "      <td>1.0</td>\n",
       "    </tr>\n",
       "    <tr>\n",
       "      <th>2016-07-01</th>\n",
       "      <td>3.2448</td>\n",
       "      <td>1.1145</td>\n",
       "      <td>0.8543</td>\n",
       "      <td>1.2152</td>\n",
       "      <td>2.0168</td>\n",
       "      <td>0.074144</td>\n",
       "      <td>-0.807588</td>\n",
       "      <td>0.261804</td>\n",
       "      <td>-0.448946</td>\n",
       "      <td>1.0</td>\n",
       "    </tr>\n",
       "    <tr>\n",
       "      <th>2015-12-04</th>\n",
       "      <td>3.7426</td>\n",
       "      <td>1.0884</td>\n",
       "      <td>0.7863</td>\n",
       "      <td>1.1911</td>\n",
       "      <td>1.9746</td>\n",
       "      <td>-0.715449</td>\n",
       "      <td>-1.389049</td>\n",
       "      <td>-1.465989</td>\n",
       "      <td>0.996175</td>\n",
       "      <td>1.0</td>\n",
       "    </tr>\n",
       "  </tbody>\n",
       "</table>\n",
       "</div>"
      ],
      "text/plain": [
       "                  DEXBZUS  DEXUSEU  DEXUSAL  DEXSZUS  DEXUSUK  \\\n",
       "observation_date                                                \n",
       "2016-04-04         3.5994   1.1386   0.8180   1.2194   1.9756   \n",
       "2015-04-28         2.9002   1.0979   0.7564   1.2611   1.8011   \n",
       "2015-10-02         3.9712   1.1276   0.7442   1.2453   1.8873   \n",
       "2016-07-01         3.2448   1.1145   0.8543   1.2152   2.0168   \n",
       "2015-12-04         3.7426   1.0884   0.7863   1.1911   1.9746   \n",
       "\n",
       "                  ADS_Index_111618       PC1       PC2       PC3  constant  \n",
       "observation_date                                                            \n",
       "2016-04-04               -0.530705 -0.819649 -1.071593  0.539901       1.0  \n",
       "2015-04-28               -0.343663 -0.146061 -1.264375 -1.620334       1.0  \n",
       "2015-10-02               -0.481667 -0.185565 -1.743367  1.634819       1.0  \n",
       "2016-07-01                0.074144 -0.807588  0.261804 -0.448946       1.0  \n",
       "2015-12-04               -0.715449 -1.389049 -1.465989  0.996175       1.0  "
      ]
     },
     "execution_count": 42,
     "metadata": {},
     "output_type": "execute_result"
    }
   ],
   "source": [
    "bst_1 = train.sample(n=628, replace=True)\n",
    "bst_1.head()"
   ]
  },
  {
   "cell_type": "code",
   "execution_count": 43,
   "metadata": {},
   "outputs": [
    {
     "data": {
      "text/html": [
       "<div>\n",
       "<style>\n",
       "    .dataframe thead tr:only-child th {\n",
       "        text-align: right;\n",
       "    }\n",
       "\n",
       "    .dataframe thead th {\n",
       "        text-align: left;\n",
       "    }\n",
       "\n",
       "    .dataframe tbody tr th {\n",
       "        vertical-align: top;\n",
       "    }\n",
       "</style>\n",
       "<table border=\"1\" class=\"dataframe\">\n",
       "  <thead>\n",
       "    <tr style=\"text-align: right;\">\n",
       "      <th></th>\n",
       "      <th>DEXBZUS</th>\n",
       "      <th>DEXUSEU</th>\n",
       "      <th>DEXUSAL</th>\n",
       "      <th>DEXSZUS</th>\n",
       "      <th>DEXUSUK</th>\n",
       "      <th>ADS_Index_111618</th>\n",
       "      <th>PC1</th>\n",
       "      <th>PC2</th>\n",
       "      <th>PC3</th>\n",
       "      <th>constant</th>\n",
       "    </tr>\n",
       "    <tr>\n",
       "      <th>observation_date</th>\n",
       "      <th></th>\n",
       "      <th></th>\n",
       "      <th></th>\n",
       "      <th></th>\n",
       "      <th></th>\n",
       "      <th></th>\n",
       "      <th></th>\n",
       "      <th></th>\n",
       "      <th></th>\n",
       "      <th></th>\n",
       "    </tr>\n",
       "  </thead>\n",
       "  <tbody>\n",
       "    <tr>\n",
       "      <th>2017-03-28</th>\n",
       "      <td>3.1298</td>\n",
       "      <td>1.0852</td>\n",
       "      <td>0.9202</td>\n",
       "      <td>0.9932</td>\n",
       "      <td>2.0097</td>\n",
       "      <td>0.104662</td>\n",
       "      <td>-1.514735</td>\n",
       "      <td>2.560577</td>\n",
       "      <td>-0.445264</td>\n",
       "      <td>1.0</td>\n",
       "    </tr>\n",
       "    <tr>\n",
       "      <th>2016-10-19</th>\n",
       "      <td>3.1677</td>\n",
       "      <td>1.0966</td>\n",
       "      <td>0.8935</td>\n",
       "      <td>1.1718</td>\n",
       "      <td>2.0484</td>\n",
       "      <td>-0.295855</td>\n",
       "      <td>-1.720372</td>\n",
       "      <td>0.190536</td>\n",
       "      <td>-0.659329</td>\n",
       "      <td>1.0</td>\n",
       "    </tr>\n",
       "    <tr>\n",
       "      <th>2015-02-02</th>\n",
       "      <td>2.7086</td>\n",
       "      <td>1.1337</td>\n",
       "      <td>0.7542</td>\n",
       "      <td>1.2841</td>\n",
       "      <td>1.7781</td>\n",
       "      <td>-0.487805</td>\n",
       "      <td>0.201797</td>\n",
       "      <td>-1.576019</td>\n",
       "      <td>-2.260734</td>\n",
       "      <td>1.0</td>\n",
       "    </tr>\n",
       "    <tr>\n",
       "      <th>2016-10-25</th>\n",
       "      <td>3.1142</td>\n",
       "      <td>1.0890</td>\n",
       "      <td>0.9059</td>\n",
       "      <td>1.1671</td>\n",
       "      <td>2.0485</td>\n",
       "      <td>-0.296717</td>\n",
       "      <td>-1.878461</td>\n",
       "      <td>0.295381</td>\n",
       "      <td>-0.812094</td>\n",
       "      <td>1.0</td>\n",
       "    </tr>\n",
       "    <tr>\n",
       "      <th>2016-11-01</th>\n",
       "      <td>3.2342</td>\n",
       "      <td>1.1042</td>\n",
       "      <td>0.9186</td>\n",
       "      <td>1.1591</td>\n",
       "      <td>2.0818</td>\n",
       "      <td>-0.287249</td>\n",
       "      <td>-1.883419</td>\n",
       "      <td>0.436214</td>\n",
       "      <td>-0.435716</td>\n",
       "      <td>1.0</td>\n",
       "    </tr>\n",
       "  </tbody>\n",
       "</table>\n",
       "</div>"
      ],
      "text/plain": [
       "                  DEXBZUS  DEXUSEU  DEXUSAL  DEXSZUS  DEXUSUK  \\\n",
       "observation_date                                                \n",
       "2017-03-28         3.1298   1.0852   0.9202   0.9932   2.0097   \n",
       "2016-10-19         3.1677   1.0966   0.8935   1.1718   2.0484   \n",
       "2015-02-02         2.7086   1.1337   0.7542   1.2841   1.7781   \n",
       "2016-10-25         3.1142   1.0890   0.9059   1.1671   2.0485   \n",
       "2016-11-01         3.2342   1.1042   0.9186   1.1591   2.0818   \n",
       "\n",
       "                  ADS_Index_111618       PC1       PC2       PC3  constant  \n",
       "observation_date                                                            \n",
       "2017-03-28                0.104662 -1.514735  2.560577 -0.445264       1.0  \n",
       "2016-10-19               -0.295855 -1.720372  0.190536 -0.659329       1.0  \n",
       "2015-02-02               -0.487805  0.201797 -1.576019 -2.260734       1.0  \n",
       "2016-10-25               -0.296717 -1.878461  0.295381 -0.812094       1.0  \n",
       "2016-11-01               -0.287249 -1.883419  0.436214 -0.435716       1.0  "
      ]
     },
     "execution_count": 43,
     "metadata": {},
     "output_type": "execute_result"
    }
   ],
   "source": [
    "bst_2 = train.sample(n=628, replace=True)\n",
    "bst_2.head()"
   ]
  },
  {
   "cell_type": "code",
   "execution_count": 44,
   "metadata": {
    "scrolled": true
   },
   "outputs": [
    {
     "data": {
      "text/html": [
       "<div>\n",
       "<style>\n",
       "    .dataframe thead tr:only-child th {\n",
       "        text-align: right;\n",
       "    }\n",
       "\n",
       "    .dataframe thead th {\n",
       "        text-align: left;\n",
       "    }\n",
       "\n",
       "    .dataframe tbody tr th {\n",
       "        vertical-align: top;\n",
       "    }\n",
       "</style>\n",
       "<table border=\"1\" class=\"dataframe\">\n",
       "  <thead>\n",
       "    <tr style=\"text-align: right;\">\n",
       "      <th></th>\n",
       "      <th>DEXBZUS</th>\n",
       "      <th>DEXUSEU</th>\n",
       "      <th>DEXUSAL</th>\n",
       "      <th>DEXSZUS</th>\n",
       "      <th>DEXUSUK</th>\n",
       "      <th>ADS_Index_111618</th>\n",
       "      <th>PC1</th>\n",
       "      <th>PC2</th>\n",
       "      <th>PC3</th>\n",
       "      <th>constant</th>\n",
       "    </tr>\n",
       "    <tr>\n",
       "      <th>observation_date</th>\n",
       "      <th></th>\n",
       "      <th></th>\n",
       "      <th></th>\n",
       "      <th></th>\n",
       "      <th></th>\n",
       "      <th></th>\n",
       "      <th></th>\n",
       "      <th></th>\n",
       "      <th></th>\n",
       "      <th></th>\n",
       "    </tr>\n",
       "  </thead>\n",
       "  <tbody>\n",
       "    <tr>\n",
       "      <th>2015-03-09</th>\n",
       "      <td>3.1015</td>\n",
       "      <td>1.0846</td>\n",
       "      <td>0.7319</td>\n",
       "      <td>1.3088</td>\n",
       "      <td>1.7359</td>\n",
       "      <td>-0.543296</td>\n",
       "      <td>-0.141980</td>\n",
       "      <td>-2.247586</td>\n",
       "      <td>-1.102379</td>\n",
       "      <td>1.0</td>\n",
       "    </tr>\n",
       "    <tr>\n",
       "      <th>2016-10-04</th>\n",
       "      <td>3.2339</td>\n",
       "      <td>1.1212</td>\n",
       "      <td>0.8883</td>\n",
       "      <td>1.1752</td>\n",
       "      <td>2.0392</td>\n",
       "      <td>-0.272427</td>\n",
       "      <td>-1.363709</td>\n",
       "      <td>0.205760</td>\n",
       "      <td>-0.463424</td>\n",
       "      <td>1.0</td>\n",
       "    </tr>\n",
       "    <tr>\n",
       "      <th>2016-07-11</th>\n",
       "      <td>3.3095</td>\n",
       "      <td>1.1045</td>\n",
       "      <td>0.8614</td>\n",
       "      <td>1.2044</td>\n",
       "      <td>2.0320</td>\n",
       "      <td>0.049836</td>\n",
       "      <td>-1.037288</td>\n",
       "      <td>0.304804</td>\n",
       "      <td>-0.237295</td>\n",
       "      <td>1.0</td>\n",
       "    </tr>\n",
       "    <tr>\n",
       "      <th>2015-07-21</th>\n",
       "      <td>3.1725</td>\n",
       "      <td>1.0927</td>\n",
       "      <td>0.7516</td>\n",
       "      <td>1.2435</td>\n",
       "      <td>1.8495</td>\n",
       "      <td>-0.052579</td>\n",
       "      <td>-0.043423</td>\n",
       "      <td>-0.744396</td>\n",
       "      <td>-0.730633</td>\n",
       "      <td>1.0</td>\n",
       "    </tr>\n",
       "    <tr>\n",
       "      <th>2015-03-19</th>\n",
       "      <td>3.2931</td>\n",
       "      <td>1.0621</td>\n",
       "      <td>0.7223</td>\n",
       "      <td>1.2911</td>\n",
       "      <td>1.7563</td>\n",
       "      <td>-0.519370</td>\n",
       "      <td>-0.385569</td>\n",
       "      <td>-2.219461</td>\n",
       "      <td>-0.489209</td>\n",
       "      <td>1.0</td>\n",
       "    </tr>\n",
       "  </tbody>\n",
       "</table>\n",
       "</div>"
      ],
      "text/plain": [
       "                  DEXBZUS  DEXUSEU  DEXUSAL  DEXSZUS  DEXUSUK  \\\n",
       "observation_date                                                \n",
       "2015-03-09         3.1015   1.0846   0.7319   1.3088   1.7359   \n",
       "2016-10-04         3.2339   1.1212   0.8883   1.1752   2.0392   \n",
       "2016-07-11         3.3095   1.1045   0.8614   1.2044   2.0320   \n",
       "2015-07-21         3.1725   1.0927   0.7516   1.2435   1.8495   \n",
       "2015-03-19         3.2931   1.0621   0.7223   1.2911   1.7563   \n",
       "\n",
       "                  ADS_Index_111618       PC1       PC2       PC3  constant  \n",
       "observation_date                                                            \n",
       "2015-03-09               -0.543296 -0.141980 -2.247586 -1.102379       1.0  \n",
       "2016-10-04               -0.272427 -1.363709  0.205760 -0.463424       1.0  \n",
       "2016-07-11                0.049836 -1.037288  0.304804 -0.237295       1.0  \n",
       "2015-07-21               -0.052579 -0.043423 -0.744396 -0.730633       1.0  \n",
       "2015-03-19               -0.519370 -0.385569 -2.219461 -0.489209       1.0  "
      ]
     },
     "execution_count": 44,
     "metadata": {},
     "output_type": "execute_result"
    }
   ],
   "source": [
    "bst_3 = train.sample(n=628, replace=True)\n",
    "bst_3.head()"
   ]
  },
  {
   "cell_type": "code",
   "execution_count": 45,
   "metadata": {},
   "outputs": [
    {
     "data": {
      "text/html": [
       "<div>\n",
       "<style>\n",
       "    .dataframe thead tr:only-child th {\n",
       "        text-align: right;\n",
       "    }\n",
       "\n",
       "    .dataframe thead th {\n",
       "        text-align: left;\n",
       "    }\n",
       "\n",
       "    .dataframe tbody tr th {\n",
       "        vertical-align: top;\n",
       "    }\n",
       "</style>\n",
       "<table border=\"1\" class=\"dataframe\">\n",
       "  <thead>\n",
       "    <tr style=\"text-align: right;\">\n",
       "      <th></th>\n",
       "      <th>DEXBZUS</th>\n",
       "      <th>DEXUSEU</th>\n",
       "      <th>DEXUSAL</th>\n",
       "      <th>DEXSZUS</th>\n",
       "      <th>DEXUSUK</th>\n",
       "      <th>ADS_Index_111618</th>\n",
       "      <th>PC1</th>\n",
       "      <th>PC2</th>\n",
       "      <th>PC3</th>\n",
       "      <th>constant</th>\n",
       "    </tr>\n",
       "    <tr>\n",
       "      <th>observation_date</th>\n",
       "      <th></th>\n",
       "      <th></th>\n",
       "      <th></th>\n",
       "      <th></th>\n",
       "      <th></th>\n",
       "      <th></th>\n",
       "      <th></th>\n",
       "      <th></th>\n",
       "      <th></th>\n",
       "      <th></th>\n",
       "    </tr>\n",
       "  </thead>\n",
       "  <tbody>\n",
       "    <tr>\n",
       "      <th>2017-06-27</th>\n",
       "      <td>3.3195</td>\n",
       "      <td>1.1300</td>\n",
       "      <td>0.9573</td>\n",
       "      <td>1.0274</td>\n",
       "      <td>1.9873</td>\n",
       "      <td>-0.169061</td>\n",
       "      <td>-1.435916</td>\n",
       "      <td>2.012911</td>\n",
       "      <td>0.047665</td>\n",
       "      <td>1.0</td>\n",
       "    </tr>\n",
       "    <tr>\n",
       "      <th>2017-06-09</th>\n",
       "      <td>3.2793</td>\n",
       "      <td>1.1190</td>\n",
       "      <td>0.9448</td>\n",
       "      <td>1.0404</td>\n",
       "      <td>1.9543</td>\n",
       "      <td>-0.101075</td>\n",
       "      <td>-1.308184</td>\n",
       "      <td>1.943601</td>\n",
       "      <td>-0.083743</td>\n",
       "      <td>1.0</td>\n",
       "    </tr>\n",
       "    <tr>\n",
       "      <th>2017-03-24</th>\n",
       "      <td>3.1144</td>\n",
       "      <td>1.0806</td>\n",
       "      <td>0.9136</td>\n",
       "      <td>1.0088</td>\n",
       "      <td>1.9997</td>\n",
       "      <td>0.054064</td>\n",
       "      <td>-1.543339</td>\n",
       "      <td>2.299567</td>\n",
       "      <td>-0.521944</td>\n",
       "      <td>1.0</td>\n",
       "    </tr>\n",
       "    <tr>\n",
       "      <th>2016-11-17</th>\n",
       "      <td>3.4134</td>\n",
       "      <td>1.0656</td>\n",
       "      <td>0.8835</td>\n",
       "      <td>1.1163</td>\n",
       "      <td>2.0478</td>\n",
       "      <td>-0.225175</td>\n",
       "      <td>-1.952654</td>\n",
       "      <td>0.588828</td>\n",
       "      <td>0.184168</td>\n",
       "      <td>1.0</td>\n",
       "    </tr>\n",
       "    <tr>\n",
       "      <th>2017-04-28</th>\n",
       "      <td>3.1896</td>\n",
       "      <td>1.0895</td>\n",
       "      <td>0.9347</td>\n",
       "      <td>1.0329</td>\n",
       "      <td>1.9747</td>\n",
       "      <td>0.187768</td>\n",
       "      <td>-1.348367</td>\n",
       "      <td>2.420404</td>\n",
       "      <td>-0.307531</td>\n",
       "      <td>1.0</td>\n",
       "    </tr>\n",
       "  </tbody>\n",
       "</table>\n",
       "</div>"
      ],
      "text/plain": [
       "                  DEXBZUS  DEXUSEU  DEXUSAL  DEXSZUS  DEXUSUK  \\\n",
       "observation_date                                                \n",
       "2017-06-27         3.3195   1.1300   0.9573   1.0274   1.9873   \n",
       "2017-06-09         3.2793   1.1190   0.9448   1.0404   1.9543   \n",
       "2017-03-24         3.1144   1.0806   0.9136   1.0088   1.9997   \n",
       "2016-11-17         3.4134   1.0656   0.8835   1.1163   2.0478   \n",
       "2017-04-28         3.1896   1.0895   0.9347   1.0329   1.9747   \n",
       "\n",
       "                  ADS_Index_111618       PC1       PC2       PC3  constant  \n",
       "observation_date                                                            \n",
       "2017-06-27               -0.169061 -1.435916  2.012911  0.047665       1.0  \n",
       "2017-06-09               -0.101075 -1.308184  1.943601 -0.083743       1.0  \n",
       "2017-03-24                0.054064 -1.543339  2.299567 -0.521944       1.0  \n",
       "2016-11-17               -0.225175 -1.952654  0.588828  0.184168       1.0  \n",
       "2017-04-28                0.187768 -1.348367  2.420404 -0.307531       1.0  "
      ]
     },
     "execution_count": 45,
     "metadata": {},
     "output_type": "execute_result"
    }
   ],
   "source": [
    "bst_4 = train.sample(n=628, replace=True)\n",
    "bst_4.head()"
   ]
  },
  {
   "cell_type": "code",
   "execution_count": 46,
   "metadata": {},
   "outputs": [
    {
     "data": {
      "text/html": [
       "<div>\n",
       "<style>\n",
       "    .dataframe thead tr:only-child th {\n",
       "        text-align: right;\n",
       "    }\n",
       "\n",
       "    .dataframe thead th {\n",
       "        text-align: left;\n",
       "    }\n",
       "\n",
       "    .dataframe tbody tr th {\n",
       "        vertical-align: top;\n",
       "    }\n",
       "</style>\n",
       "<table border=\"1\" class=\"dataframe\">\n",
       "  <thead>\n",
       "    <tr style=\"text-align: right;\">\n",
       "      <th></th>\n",
       "      <th>DEXBZUS</th>\n",
       "      <th>DEXUSEU</th>\n",
       "      <th>DEXUSAL</th>\n",
       "      <th>DEXSZUS</th>\n",
       "      <th>DEXUSUK</th>\n",
       "      <th>ADS_Index_111618</th>\n",
       "      <th>PC1</th>\n",
       "      <th>PC2</th>\n",
       "      <th>PC3</th>\n",
       "      <th>constant</th>\n",
       "    </tr>\n",
       "    <tr>\n",
       "      <th>observation_date</th>\n",
       "      <th></th>\n",
       "      <th></th>\n",
       "      <th></th>\n",
       "      <th></th>\n",
       "      <th></th>\n",
       "      <th></th>\n",
       "      <th></th>\n",
       "      <th></th>\n",
       "      <th></th>\n",
       "      <th></th>\n",
       "    </tr>\n",
       "  </thead>\n",
       "  <tbody>\n",
       "    <tr>\n",
       "      <th>2016-08-12</th>\n",
       "      <td>3.1648</td>\n",
       "      <td>1.1172</td>\n",
       "      <td>0.8384</td>\n",
       "      <td>1.2095</td>\n",
       "      <td>2.0000</td>\n",
       "      <td>-0.179778</td>\n",
       "      <td>-0.889387</td>\n",
       "      <td>-0.171304</td>\n",
       "      <td>-0.718767</td>\n",
       "      <td>1.0</td>\n",
       "    </tr>\n",
       "    <tr>\n",
       "      <th>2015-08-31</th>\n",
       "      <td>3.6206</td>\n",
       "      <td>1.1194</td>\n",
       "      <td>0.7645</td>\n",
       "      <td>1.2293</td>\n",
       "      <td>1.9042</td>\n",
       "      <td>-0.394499</td>\n",
       "      <td>-0.355601</td>\n",
       "      <td>-1.244486</td>\n",
       "      <td>0.605776</td>\n",
       "      <td>1.0</td>\n",
       "    </tr>\n",
       "    <tr>\n",
       "      <th>2016-07-08</th>\n",
       "      <td>3.2835</td>\n",
       "      <td>1.1038</td>\n",
       "      <td>0.8622</td>\n",
       "      <td>1.2074</td>\n",
       "      <td>2.0248</td>\n",
       "      <td>0.062389</td>\n",
       "      <td>-1.012923</td>\n",
       "      <td>0.312185</td>\n",
       "      <td>-0.318597</td>\n",
       "      <td>1.0</td>\n",
       "    </tr>\n",
       "    <tr>\n",
       "      <th>2015-03-17</th>\n",
       "      <td>3.2632</td>\n",
       "      <td>1.0605</td>\n",
       "      <td>0.7350</td>\n",
       "      <td>1.2931</td>\n",
       "      <td>1.7552</td>\n",
       "      <td>-0.526664</td>\n",
       "      <td>-0.480262</td>\n",
       "      <td>-2.177633</td>\n",
       "      <td>-0.581692</td>\n",
       "      <td>1.0</td>\n",
       "    </tr>\n",
       "    <tr>\n",
       "      <th>2015-07-01</th>\n",
       "      <td>3.1269</td>\n",
       "      <td>1.1084</td>\n",
       "      <td>0.7423</td>\n",
       "      <td>1.2247</td>\n",
       "      <td>1.8491</td>\n",
       "      <td>-0.221690</td>\n",
       "      <td>0.011733</td>\n",
       "      <td>-0.867779</td>\n",
       "      <td>-0.866883</td>\n",
       "      <td>1.0</td>\n",
       "    </tr>\n",
       "  </tbody>\n",
       "</table>\n",
       "</div>"
      ],
      "text/plain": [
       "                  DEXBZUS  DEXUSEU  DEXUSAL  DEXSZUS  DEXUSUK  \\\n",
       "observation_date                                                \n",
       "2016-08-12         3.1648   1.1172   0.8384   1.2095   2.0000   \n",
       "2015-08-31         3.6206   1.1194   0.7645   1.2293   1.9042   \n",
       "2016-07-08         3.2835   1.1038   0.8622   1.2074   2.0248   \n",
       "2015-03-17         3.2632   1.0605   0.7350   1.2931   1.7552   \n",
       "2015-07-01         3.1269   1.1084   0.7423   1.2247   1.8491   \n",
       "\n",
       "                  ADS_Index_111618       PC1       PC2       PC3  constant  \n",
       "observation_date                                                            \n",
       "2016-08-12               -0.179778 -0.889387 -0.171304 -0.718767       1.0  \n",
       "2015-08-31               -0.394499 -0.355601 -1.244486  0.605776       1.0  \n",
       "2016-07-08                0.062389 -1.012923  0.312185 -0.318597       1.0  \n",
       "2015-03-17               -0.526664 -0.480262 -2.177633 -0.581692       1.0  \n",
       "2015-07-01               -0.221690  0.011733 -0.867779 -0.866883       1.0  "
      ]
     },
     "execution_count": 46,
     "metadata": {},
     "output_type": "execute_result"
    }
   ],
   "source": [
    "bst_5 = train.sample(n=628, replace=True)\n",
    "bst_5.head()"
   ]
  },
  {
   "cell_type": "code",
   "execution_count": 47,
   "metadata": {},
   "outputs": [
    {
     "data": {
      "text/html": [
       "<div>\n",
       "<style>\n",
       "    .dataframe thead tr:only-child th {\n",
       "        text-align: right;\n",
       "    }\n",
       "\n",
       "    .dataframe thead th {\n",
       "        text-align: left;\n",
       "    }\n",
       "\n",
       "    .dataframe tbody tr th {\n",
       "        vertical-align: top;\n",
       "    }\n",
       "</style>\n",
       "<table border=\"1\" class=\"dataframe\">\n",
       "  <thead>\n",
       "    <tr style=\"text-align: right;\">\n",
       "      <th></th>\n",
       "      <th>DEXBZUS</th>\n",
       "      <th>DEXUSEU</th>\n",
       "      <th>DEXUSAL</th>\n",
       "      <th>DEXSZUS</th>\n",
       "      <th>DEXUSUK</th>\n",
       "      <th>ADS_Index_111618</th>\n",
       "      <th>PC1</th>\n",
       "      <th>PC2</th>\n",
       "      <th>PC3</th>\n",
       "      <th>constant</th>\n",
       "    </tr>\n",
       "    <tr>\n",
       "      <th>observation_date</th>\n",
       "      <th></th>\n",
       "      <th></th>\n",
       "      <th></th>\n",
       "      <th></th>\n",
       "      <th></th>\n",
       "      <th></th>\n",
       "      <th></th>\n",
       "      <th></th>\n",
       "      <th></th>\n",
       "      <th></th>\n",
       "    </tr>\n",
       "  </thead>\n",
       "  <tbody>\n",
       "    <tr>\n",
       "      <th>2015-11-10</th>\n",
       "      <td>3.7978</td>\n",
       "      <td>1.0686</td>\n",
       "      <td>0.7688</td>\n",
       "      <td>1.2421</td>\n",
       "      <td>1.9067</td>\n",
       "      <td>-0.721041</td>\n",
       "      <td>-1.288128</td>\n",
       "      <td>-2.071000</td>\n",
       "      <td>1.091610</td>\n",
       "      <td>1.0</td>\n",
       "    </tr>\n",
       "    <tr>\n",
       "      <th>2016-08-29</th>\n",
       "      <td>3.2436</td>\n",
       "      <td>1.1182</td>\n",
       "      <td>0.8190</td>\n",
       "      <td>1.1986</td>\n",
       "      <td>2.0182</td>\n",
       "      <td>-0.216503</td>\n",
       "      <td>-0.864339</td>\n",
       "      <td>-0.264494</td>\n",
       "      <td>-0.472026</td>\n",
       "      <td>1.0</td>\n",
       "    </tr>\n",
       "    <tr>\n",
       "      <th>2017-07-20</th>\n",
       "      <td>3.1374</td>\n",
       "      <td>1.1634</td>\n",
       "      <td>0.9749</td>\n",
       "      <td>1.0207</td>\n",
       "      <td>1.9979</td>\n",
       "      <td>-0.244858</td>\n",
       "      <td>-1.274170</td>\n",
       "      <td>2.168969</td>\n",
       "      <td>-0.508999</td>\n",
       "      <td>1.0</td>\n",
       "    </tr>\n",
       "    <tr>\n",
       "      <th>2016-10-03</th>\n",
       "      <td>3.2333</td>\n",
       "      <td>1.1210</td>\n",
       "      <td>0.8882</td>\n",
       "      <td>1.1791</td>\n",
       "      <td>2.0369</td>\n",
       "      <td>-0.268717</td>\n",
       "      <td>-1.353383</td>\n",
       "      <td>0.177468</td>\n",
       "      <td>-0.470455</td>\n",
       "      <td>1.0</td>\n",
       "    </tr>\n",
       "    <tr>\n",
       "      <th>2016-02-11</th>\n",
       "      <td>3.9704</td>\n",
       "      <td>1.1362</td>\n",
       "      <td>0.7726</td>\n",
       "      <td>1.2532</td>\n",
       "      <td>1.9474</td>\n",
       "      <td>-0.416131</td>\n",
       "      <td>-0.376717</td>\n",
       "      <td>-1.536947</td>\n",
       "      <td>1.628292</td>\n",
       "      <td>1.0</td>\n",
       "    </tr>\n",
       "  </tbody>\n",
       "</table>\n",
       "</div>"
      ],
      "text/plain": [
       "                  DEXBZUS  DEXUSEU  DEXUSAL  DEXSZUS  DEXUSUK  \\\n",
       "observation_date                                                \n",
       "2015-11-10         3.7978   1.0686   0.7688   1.2421   1.9067   \n",
       "2016-08-29         3.2436   1.1182   0.8190   1.1986   2.0182   \n",
       "2017-07-20         3.1374   1.1634   0.9749   1.0207   1.9979   \n",
       "2016-10-03         3.2333   1.1210   0.8882   1.1791   2.0369   \n",
       "2016-02-11         3.9704   1.1362   0.7726   1.2532   1.9474   \n",
       "\n",
       "                  ADS_Index_111618       PC1       PC2       PC3  constant  \n",
       "observation_date                                                            \n",
       "2015-11-10               -0.721041 -1.288128 -2.071000  1.091610       1.0  \n",
       "2016-08-29               -0.216503 -0.864339 -0.264494 -0.472026       1.0  \n",
       "2017-07-20               -0.244858 -1.274170  2.168969 -0.508999       1.0  \n",
       "2016-10-03               -0.268717 -1.353383  0.177468 -0.470455       1.0  \n",
       "2016-02-11               -0.416131 -0.376717 -1.536947  1.628292       1.0  "
      ]
     },
     "execution_count": 47,
     "metadata": {},
     "output_type": "execute_result"
    }
   ],
   "source": [
    "bst_6 = train.sample(n=628, replace=True)\n",
    "bst_6.head()"
   ]
  },
  {
   "cell_type": "code",
   "execution_count": 48,
   "metadata": {
    "collapsed": true
   },
   "outputs": [],
   "source": [
    "from numpy.linalg import inv"
   ]
  },
  {
   "cell_type": "markdown",
   "metadata": {},
   "source": [
    "# Training Function"
   ]
  },
  {
   "cell_type": "code",
   "execution_count": 49,
   "metadata": {
    "collapsed": true
   },
   "outputs": [],
   "source": [
    "def train_test(train_data, test_data):\n",
    "    y_train = train_data.iloc[:, 4] #DEXUSUK\n",
    "    y_train = pd.DataFrame(y_train)\n",
    "    y_train = np.matrix(y_train)\n",
    "    #Y = alpha*beta X\n",
    "    x_train1 = train_data.iloc[:, [9,1,2,3]]\n",
    "    x_train1 = pd.DataFrame(x_train1)\n",
    "    x_train1 = np.matrix(x_train1)\n",
    "    beta_hat1 = (inv((x_train1.T)*x_train1))*(x_train1.T)*(y_train)\n",
    "    beta_hat1 = np.matrix(beta_hat1)\n",
    "    x_test1 = pd.DataFrame(test_data.iloc[:, [9,1,2,3]])\n",
    "    x_test1 = np.matrix(x_test1)\n",
    "    y_hat1 = (x_test1*beta_hat1)\n",
    "    #Yt = alpha + beta*ADS\n",
    "    x_train2 = train_data.iloc[:, [9,5]]\n",
    "    x_train2 = pd.DataFrame(x_train2)\n",
    "    x_train2 = np.matrix(x_train2)\n",
    "    beta_hat2 = (inv((x_train2.T)*x_train2))*(x_train2.T)*(y_train)\n",
    "    beta_hat2 = np.matrix(beta_hat2)\n",
    "    x_test2 = pd.DataFrame(test_data.iloc[:, [9,5]])\n",
    "    x_test2 = np.matrix(x_test2)\n",
    "    y_hat2 = (x_test2*beta_hat2)\n",
    "    #Yt = alpha + beta1*PC1 + beta2*PC2 + beat*PC3\n",
    "    x_train3 = train_data.iloc[:, [9,6,7,8]]\n",
    "    x_train3 = pd.DataFrame(x_train3)\n",
    "    x_train3 = np.matrix(x_train3)\n",
    "    beta_hat3 = (inv((x_train3.T)*x_train3))*(x_train3.T)*(y_train)\n",
    "    beta_hat3 = np.matrix(beta_hat3)\n",
    "    x_test3 = pd.DataFrame(test_data.iloc[:, [9,6,7,8]])\n",
    "    x_test3 = np.matrix(x_test3)\n",
    "    y_hat3 = (x_test3*beta_hat3)\n",
    "    #Yt = alpha + beta1*PC1 + beta2*ADS\n",
    "    x_train4 = train_data.iloc[:, [9,6,5]]\n",
    "    x_train4 = pd.DataFrame(x_train4)\n",
    "    x_train4 = np.matrix(x_train4)\n",
    "    beta_hat4 = (inv((x_train4.T)*x_train4))*(x_train4.T)*(y_train)\n",
    "    beta_hat4 = np.matrix(beta_hat4)\n",
    "    x_test4 = pd.DataFrame(test_data.iloc[:, [9,6,5]])\n",
    "    x_test4 = np.matrix(x_test4)                                       \n",
    "    y_hat4 = (x_test4*beta_hat4)\n",
    "    mse1 = cal_rmse(test_data.iloc[:,[9,1,2,3]], test_data.iloc[:, 4], beta_hat1)\n",
    "    mse2 = cal_rmse(test_data.iloc[:, [9,5]], test_data.iloc[:, 4], beta_hat2)\n",
    "    mse3 = cal_rmse(test_data.iloc[:, [9,6,7,8]], test_data.iloc[:, 4], beta_hat3)\n",
    "    mse4 = cal_rmse(test_data.iloc[:, [9,6,5]], test_data.iloc[:, 4], beta_hat4)\n",
    "    rmse_y_hat_list = {mse1:y_hat1, mse2:y_hat2, mse3:y_hat3, mse4:y_hat4}\n",
    "    return rmse_y_hat_list"
   ]
  },
  {
   "cell_type": "markdown",
   "metadata": {},
   "source": [
    "# RMSE Function"
   ]
  },
  {
   "cell_type": "code",
   "execution_count": 50,
   "metadata": {
    "collapsed": true
   },
   "outputs": [],
   "source": [
    "def cal_rmse(x_test, y_test, beta_hat):\n",
    "    x_test = np.matrix(x_test)\n",
    "    y_test = np.matrix(y_test)\n",
    "    reg = (x_test*beta_hat)\n",
    "    mse = (np.square(reg - y_test)).mean()\n",
    "    rmse = np.sqrt(mse)\n",
    "    return rmse"
   ]
  },
  {
   "cell_type": "markdown",
   "metadata": {},
   "source": [
    "# Calculating Error term and adding it in the X"
   ]
  },
  {
   "cell_type": "code",
   "execution_count": null,
   "metadata": {
    "collapsed": true
   },
   "outputs": [],
   "source": [
    "    y_train = train_data.iloc[:, 4] #DEXUSUK\n",
    "    y_train = pd.DataFrame(y_train)\n",
    "    y_train = np.matrix(y_train)\n",
    "    #Y = alpha*beta X\n",
    "    x_train1 = train_data.iloc[:, [9,1,2,3]]\n",
    "    x_train1 = pd.DataFrame(x_train1)\n",
    "    x_train1 = np.matrix(x_train1)\n",
    "    \n",
    "    beta_hat1 = (inv((x_train1.T)*x_train1))*(x_train1.T)*(y_train)\n",
    "    beta_hat1 = np.matrix(beta_hat1)\n",
    "    x_test1 = pd.DataFrame(test_data.iloc[:, [9,1,2,3]])\n",
    "    x_test1 = np.matrix(x_test1)\n",
    "    y_hat1 = (x_test1*beta_hat1)\n",
    "    \n",
    "    #error term\n",
    "    #choose test UK values\n",
    "    y_test1 = pd.DataFrame(test_data.iloc[:, [4]])\n",
    "    y_test1 = np.matrix(y_test1)\n",
    "    #original UK values - y_test_hat values\n",
    "    ut1 = (y_test1 - y_hat1)\n",
    "    #attach error term to x_train\n",
    "    x_train1 = x_train1.append(ut1)\n",
    "    x_train1 = pd.DataFrame(x_train1)\n",
    "    x_train1 = np.matrix(x_train1)\n",
    "    #new beat_hat\n",
    "    beta_hat1 = (inv((x_train1.T)*x_train1))*(x_train1.T)*(y_train)\n",
    "    beta_hat1 = np.matrix(beta_hat1)\n",
    "    #append error term to x_train\n",
    "    x_test1 = x_test1.append(ut)\n",
    "    x_test1 = np.matrix(x_test1)\n",
    "    x_test1 = np.matrix(x_test1)\n",
    "    y_hat1 = (x_test1*beta_hat1)\n",
    "    "
   ]
  },
  {
   "cell_type": "code",
   "execution_count": 85,
   "metadata": {},
   "outputs": [
    {
     "ename": "NameError",
     "evalue": "name 'y_hat1' is not defined",
     "output_type": "error",
     "traceback": [
      "\u001b[1;31m---------------------------------------------------------------------------\u001b[0m",
      "\u001b[1;31mNameError\u001b[0m                                 Traceback (most recent call last)",
      "\u001b[1;32m<ipython-input-85-631492c3b7a0>\u001b[0m in \u001b[0;36m<module>\u001b[1;34m()\u001b[0m\n\u001b[1;32m----> 1\u001b[1;33m \u001b[0my_hat1\u001b[0m\u001b[1;33m\u001b[0m\u001b[0m\n\u001b[0m",
      "\u001b[1;31mNameError\u001b[0m: name 'y_hat1' is not defined"
     ]
    }
   ],
   "source": [
    "y_hat1"
   ]
  },
  {
   "cell_type": "code",
   "execution_count": null,
   "metadata": {
    "collapsed": true
   },
   "outputs": [],
   "source": []
  },
  {
   "cell_type": "code",
   "execution_count": null,
   "metadata": {
    "collapsed": true
   },
   "outputs": [],
   "source": []
  },
  {
   "cell_type": "markdown",
   "metadata": {},
   "source": [
    "# LOWEST RMSE Function"
   ]
  },
  {
   "cell_type": "code",
   "execution_count": 51,
   "metadata": {
    "collapsed": true
   },
   "outputs": [],
   "source": [
    "def lowest_RMSE(rmse_y_hat_list):\n",
    "    rmse_sorted =  sorted(rmse_y_hat_list.keys())\n",
    "    lowest_rmse =  rmse_sorted[0]\n",
    "    return lowest_rmse"
   ]
  },
  {
   "cell_type": "markdown",
   "metadata": {},
   "source": [
    "# Calling the Training function on Bootstrap sample 1"
   ]
  },
  {
   "cell_type": "code",
   "execution_count": 52,
   "metadata": {
    "collapsed": true,
    "scrolled": false
   },
   "outputs": [],
   "source": [
    "rmse_y_hat_dic_1 = train_test(bst_1, test)\n",
    "#rmse_y_hat_dic_1"
   ]
  },
  {
   "cell_type": "markdown",
   "metadata": {},
   "source": [
    "# Calling the Lowest RMSE Function on BootStrap Sample 1"
   ]
  },
  {
   "cell_type": "code",
   "execution_count": 53,
   "metadata": {},
   "outputs": [
    {
     "data": {
      "text/plain": [
       "0.20149103534019344"
      ]
     },
     "execution_count": 53,
     "metadata": {},
     "output_type": "execute_result"
    }
   ],
   "source": [
    "lowest_rmse_bst1 = lowest_RMSE(rmse_y_hat_dic_1)\n",
    "lowest_rmse_bst1"
   ]
  },
  {
   "cell_type": "code",
   "execution_count": 54,
   "metadata": {},
   "outputs": [
    {
     "data": {
      "text/plain": [
       "(270, 1)"
      ]
     },
     "execution_count": 54,
     "metadata": {},
     "output_type": "execute_result"
    }
   ],
   "source": [
    "lowest_Y_hat_bst1 = rmse_y_hat_dic_1[lowest_rmse_bst1]\n",
    "lowest_Y_hat_bst1 = pd.DataFrame(lowest_Y_hat_bst1)\n",
    "lowest_Y_hat_bst1.shape"
   ]
  },
  {
   "cell_type": "markdown",
   "metadata": {},
   "source": [
    "# Calling the Training function on Bootstrap sample 2"
   ]
  },
  {
   "cell_type": "code",
   "execution_count": 55,
   "metadata": {
    "collapsed": true
   },
   "outputs": [],
   "source": [
    "rmse_y_hat_dic_2 = train_test(bst_2, test)\n",
    "#rmse_y_hat_dic_2"
   ]
  },
  {
   "cell_type": "code",
   "execution_count": 56,
   "metadata": {},
   "outputs": [
    {
     "data": {
      "text/plain": [
       "0.20121196092463225"
      ]
     },
     "execution_count": 56,
     "metadata": {},
     "output_type": "execute_result"
    }
   ],
   "source": [
    "lowest_rmse_bst2 = lowest_RMSE(rmse_y_hat_dic_2)\n",
    "lowest_rmse_bst2"
   ]
  },
  {
   "cell_type": "code",
   "execution_count": 57,
   "metadata": {},
   "outputs": [
    {
     "data": {
      "text/html": [
       "<div>\n",
       "<style>\n",
       "    .dataframe thead tr:only-child th {\n",
       "        text-align: right;\n",
       "    }\n",
       "\n",
       "    .dataframe thead th {\n",
       "        text-align: left;\n",
       "    }\n",
       "\n",
       "    .dataframe tbody tr th {\n",
       "        vertical-align: top;\n",
       "    }\n",
       "</style>\n",
       "<table border=\"1\" class=\"dataframe\">\n",
       "  <thead>\n",
       "    <tr style=\"text-align: right;\">\n",
       "      <th></th>\n",
       "      <th>0</th>\n",
       "    </tr>\n",
       "  </thead>\n",
       "  <tbody>\n",
       "    <tr>\n",
       "      <th>0</th>\n",
       "      <td>1.930379</td>\n",
       "    </tr>\n",
       "    <tr>\n",
       "      <th>1</th>\n",
       "      <td>1.932233</td>\n",
       "    </tr>\n",
       "    <tr>\n",
       "      <th>2</th>\n",
       "      <td>1.917992</td>\n",
       "    </tr>\n",
       "    <tr>\n",
       "      <th>3</th>\n",
       "      <td>1.910736</td>\n",
       "    </tr>\n",
       "    <tr>\n",
       "      <th>4</th>\n",
       "      <td>1.914134</td>\n",
       "    </tr>\n",
       "  </tbody>\n",
       "</table>\n",
       "</div>"
      ],
      "text/plain": [
       "          0\n",
       "0  1.930379\n",
       "1  1.932233\n",
       "2  1.917992\n",
       "3  1.910736\n",
       "4  1.914134"
      ]
     },
     "execution_count": 57,
     "metadata": {},
     "output_type": "execute_result"
    }
   ],
   "source": [
    "lowest_Y_hat_bst2 = rmse_y_hat_dic_2[lowest_rmse_bst2]\n",
    "lowest_Y_hat_bst2 = pd.DataFrame(lowest_Y_hat_bst2)\n",
    "lowest_Y_hat_bst2.head()"
   ]
  },
  {
   "cell_type": "markdown",
   "metadata": {},
   "source": [
    "# Calling the Training function on Bootstrap sample 3"
   ]
  },
  {
   "cell_type": "code",
   "execution_count": 58,
   "metadata": {
    "collapsed": true
   },
   "outputs": [],
   "source": [
    "rmse_y_hat_dic_3 = train_test(bst_3, test)\n",
    "#rmse_y_hat_dic_3"
   ]
  },
  {
   "cell_type": "code",
   "execution_count": 59,
   "metadata": {},
   "outputs": [
    {
     "data": {
      "text/plain": [
       "0.20392866405983576"
      ]
     },
     "execution_count": 59,
     "metadata": {},
     "output_type": "execute_result"
    }
   ],
   "source": [
    "lowest_rmse_bst3 = lowest_RMSE(rmse_y_hat_dic_3)\n",
    "lowest_rmse_bst3"
   ]
  },
  {
   "cell_type": "code",
   "execution_count": 60,
   "metadata": {},
   "outputs": [
    {
     "data": {
      "text/html": [
       "<div>\n",
       "<style>\n",
       "    .dataframe thead tr:only-child th {\n",
       "        text-align: right;\n",
       "    }\n",
       "\n",
       "    .dataframe thead th {\n",
       "        text-align: left;\n",
       "    }\n",
       "\n",
       "    .dataframe tbody tr th {\n",
       "        vertical-align: top;\n",
       "    }\n",
       "</style>\n",
       "<table border=\"1\" class=\"dataframe\">\n",
       "  <thead>\n",
       "    <tr style=\"text-align: right;\">\n",
       "      <th></th>\n",
       "      <th>0</th>\n",
       "    </tr>\n",
       "  </thead>\n",
       "  <tbody>\n",
       "    <tr>\n",
       "      <th>0</th>\n",
       "      <td>1.933312</td>\n",
       "    </tr>\n",
       "    <tr>\n",
       "      <th>1</th>\n",
       "      <td>1.935107</td>\n",
       "    </tr>\n",
       "    <tr>\n",
       "      <th>2</th>\n",
       "      <td>1.921140</td>\n",
       "    </tr>\n",
       "    <tr>\n",
       "      <th>3</th>\n",
       "      <td>1.914013</td>\n",
       "    </tr>\n",
       "    <tr>\n",
       "      <th>4</th>\n",
       "      <td>1.917320</td>\n",
       "    </tr>\n",
       "  </tbody>\n",
       "</table>\n",
       "</div>"
      ],
      "text/plain": [
       "          0\n",
       "0  1.933312\n",
       "1  1.935107\n",
       "2  1.921140\n",
       "3  1.914013\n",
       "4  1.917320"
      ]
     },
     "execution_count": 60,
     "metadata": {},
     "output_type": "execute_result"
    }
   ],
   "source": [
    "lowest_Y_hat_bst3 = rmse_y_hat_dic_3[lowest_rmse_bst3]\n",
    "lowest_Y_hat_bst3 = pd.DataFrame(lowest_Y_hat_bst3)\n",
    "lowest_Y_hat_bst3.head()"
   ]
  },
  {
   "cell_type": "markdown",
   "metadata": {},
   "source": [
    "# Calling the Training function on Bootstrap sample 4"
   ]
  },
  {
   "cell_type": "code",
   "execution_count": 61,
   "metadata": {
    "collapsed": true
   },
   "outputs": [],
   "source": [
    "rmse_y_hat_dic_4 = train_test(bst_4, test)\n",
    "#rmse_y_hat_dic_4"
   ]
  },
  {
   "cell_type": "code",
   "execution_count": 62,
   "metadata": {},
   "outputs": [
    {
     "data": {
      "text/plain": [
       "0.20374626463527853"
      ]
     },
     "execution_count": 62,
     "metadata": {},
     "output_type": "execute_result"
    }
   ],
   "source": [
    "lowest_rmse_bst4 = lowest_RMSE(rmse_y_hat_dic_4)\n",
    "lowest_rmse_bst4"
   ]
  },
  {
   "cell_type": "code",
   "execution_count": 63,
   "metadata": {},
   "outputs": [
    {
     "data": {
      "text/html": [
       "<div>\n",
       "<style>\n",
       "    .dataframe thead tr:only-child th {\n",
       "        text-align: right;\n",
       "    }\n",
       "\n",
       "    .dataframe thead th {\n",
       "        text-align: left;\n",
       "    }\n",
       "\n",
       "    .dataframe tbody tr th {\n",
       "        vertical-align: top;\n",
       "    }\n",
       "</style>\n",
       "<table border=\"1\" class=\"dataframe\">\n",
       "  <thead>\n",
       "    <tr style=\"text-align: right;\">\n",
       "      <th></th>\n",
       "      <th>0</th>\n",
       "    </tr>\n",
       "  </thead>\n",
       "  <tbody>\n",
       "    <tr>\n",
       "      <th>0</th>\n",
       "      <td>1.935026</td>\n",
       "    </tr>\n",
       "    <tr>\n",
       "      <th>1</th>\n",
       "      <td>1.936856</td>\n",
       "    </tr>\n",
       "    <tr>\n",
       "      <th>2</th>\n",
       "      <td>1.922436</td>\n",
       "    </tr>\n",
       "    <tr>\n",
       "      <th>3</th>\n",
       "      <td>1.915068</td>\n",
       "    </tr>\n",
       "    <tr>\n",
       "      <th>4</th>\n",
       "      <td>1.918457</td>\n",
       "    </tr>\n",
       "  </tbody>\n",
       "</table>\n",
       "</div>"
      ],
      "text/plain": [
       "          0\n",
       "0  1.935026\n",
       "1  1.936856\n",
       "2  1.922436\n",
       "3  1.915068\n",
       "4  1.918457"
      ]
     },
     "execution_count": 63,
     "metadata": {},
     "output_type": "execute_result"
    }
   ],
   "source": [
    "lowest_Y_hat_bst4 = rmse_y_hat_dic_4[lowest_rmse_bst4]\n",
    "lowest_Y_hat_bst4 = pd.DataFrame(lowest_Y_hat_bst4)\n",
    "lowest_Y_hat_bst4.head()"
   ]
  },
  {
   "cell_type": "markdown",
   "metadata": {},
   "source": [
    "# Calling the Training function on Bootstrap sample 5"
   ]
  },
  {
   "cell_type": "code",
   "execution_count": 64,
   "metadata": {
    "collapsed": true
   },
   "outputs": [],
   "source": [
    "rmse_y_hat_dic_5 = train_test(bst_5, test)\n",
    "#rmse_y_hat_dic_5"
   ]
  },
  {
   "cell_type": "code",
   "execution_count": 65,
   "metadata": {},
   "outputs": [
    {
     "data": {
      "text/plain": [
       "0.20400249120490455"
      ]
     },
     "execution_count": 65,
     "metadata": {},
     "output_type": "execute_result"
    }
   ],
   "source": [
    "lowest_rmse_bst5 = lowest_RMSE(rmse_y_hat_dic_5)\n",
    "lowest_rmse_bst5"
   ]
  },
  {
   "cell_type": "code",
   "execution_count": 66,
   "metadata": {},
   "outputs": [
    {
     "data": {
      "text/html": [
       "<div>\n",
       "<style>\n",
       "    .dataframe thead tr:only-child th {\n",
       "        text-align: right;\n",
       "    }\n",
       "\n",
       "    .dataframe thead th {\n",
       "        text-align: left;\n",
       "    }\n",
       "\n",
       "    .dataframe tbody tr th {\n",
       "        vertical-align: top;\n",
       "    }\n",
       "</style>\n",
       "<table border=\"1\" class=\"dataframe\">\n",
       "  <thead>\n",
       "    <tr style=\"text-align: right;\">\n",
       "      <th></th>\n",
       "      <th>0</th>\n",
       "    </tr>\n",
       "  </thead>\n",
       "  <tbody>\n",
       "    <tr>\n",
       "      <th>0</th>\n",
       "      <td>1.935421</td>\n",
       "    </tr>\n",
       "    <tr>\n",
       "      <th>1</th>\n",
       "      <td>1.937248</td>\n",
       "    </tr>\n",
       "    <tr>\n",
       "      <th>2</th>\n",
       "      <td>1.922795</td>\n",
       "    </tr>\n",
       "    <tr>\n",
       "      <th>3</th>\n",
       "      <td>1.915406</td>\n",
       "    </tr>\n",
       "    <tr>\n",
       "      <th>4</th>\n",
       "      <td>1.918796</td>\n",
       "    </tr>\n",
       "  </tbody>\n",
       "</table>\n",
       "</div>"
      ],
      "text/plain": [
       "          0\n",
       "0  1.935421\n",
       "1  1.937248\n",
       "2  1.922795\n",
       "3  1.915406\n",
       "4  1.918796"
      ]
     },
     "execution_count": 66,
     "metadata": {},
     "output_type": "execute_result"
    }
   ],
   "source": [
    "lowest_Y_hat_bst5 = rmse_y_hat_dic_5[lowest_rmse_bst5]\n",
    "lowest_Y_hat_bst5 = pd.DataFrame(lowest_Y_hat_bst5)\n",
    "lowest_Y_hat_bst5.head()"
   ]
  },
  {
   "cell_type": "markdown",
   "metadata": {},
   "source": [
    "# Calling the Training function on Bootstrap sample 6"
   ]
  },
  {
   "cell_type": "code",
   "execution_count": 67,
   "metadata": {
    "collapsed": true
   },
   "outputs": [],
   "source": [
    "rmse_y_hat_dic_6 = train_test(bst_6, test)\n",
    "#rmse_y_hat_dic_6"
   ]
  },
  {
   "cell_type": "code",
   "execution_count": 68,
   "metadata": {},
   "outputs": [
    {
     "data": {
      "text/plain": [
       "0.20384103447211724"
      ]
     },
     "execution_count": 68,
     "metadata": {},
     "output_type": "execute_result"
    }
   ],
   "source": [
    "lowest_rmse_bst6 = lowest_RMSE(rmse_y_hat_dic_6)\n",
    "lowest_rmse_bst6"
   ]
  },
  {
   "cell_type": "code",
   "execution_count": 69,
   "metadata": {},
   "outputs": [
    {
     "data": {
      "text/html": [
       "<div>\n",
       "<style>\n",
       "    .dataframe thead tr:only-child th {\n",
       "        text-align: right;\n",
       "    }\n",
       "\n",
       "    .dataframe thead th {\n",
       "        text-align: left;\n",
       "    }\n",
       "\n",
       "    .dataframe tbody tr th {\n",
       "        vertical-align: top;\n",
       "    }\n",
       "</style>\n",
       "<table border=\"1\" class=\"dataframe\">\n",
       "  <thead>\n",
       "    <tr style=\"text-align: right;\">\n",
       "      <th></th>\n",
       "      <th>0</th>\n",
       "    </tr>\n",
       "  </thead>\n",
       "  <tbody>\n",
       "    <tr>\n",
       "      <th>0</th>\n",
       "      <td>1.933359</td>\n",
       "    </tr>\n",
       "    <tr>\n",
       "      <th>1</th>\n",
       "      <td>1.935158</td>\n",
       "    </tr>\n",
       "    <tr>\n",
       "      <th>2</th>\n",
       "      <td>1.921313</td>\n",
       "    </tr>\n",
       "    <tr>\n",
       "      <th>3</th>\n",
       "      <td>1.914256</td>\n",
       "    </tr>\n",
       "    <tr>\n",
       "      <th>4</th>\n",
       "      <td>1.917557</td>\n",
       "    </tr>\n",
       "  </tbody>\n",
       "</table>\n",
       "</div>"
      ],
      "text/plain": [
       "          0\n",
       "0  1.933359\n",
       "1  1.935158\n",
       "2  1.921313\n",
       "3  1.914256\n",
       "4  1.917557"
      ]
     },
     "execution_count": 69,
     "metadata": {},
     "output_type": "execute_result"
    }
   ],
   "source": [
    "lowest_Y_hat_bst6 = rmse_y_hat_dic_6[lowest_rmse_bst6]\n",
    "lowest_Y_hat_bst6 = pd.DataFrame(lowest_Y_hat_bst6)\n",
    "lowest_Y_hat_bst6.head()"
   ]
  },
  {
   "cell_type": "markdown",
   "metadata": {},
   "source": [
    "# Converting lowest rmse valued Y_hat into matrix"
   ]
  },
  {
   "cell_type": "code",
   "execution_count": 70,
   "metadata": {
    "collapsed": true
   },
   "outputs": [],
   "source": [
    "lowest_Y_hat_bst1 = np.matrix(lowest_Y_hat_bst1)\n",
    "lowest_Y_hat_bst2 = np.matrix(lowest_Y_hat_bst2)\n",
    "lowest_Y_hat_bst3 = np.matrix(lowest_Y_hat_bst3)\n",
    "lowest_Y_hat_bst4 = np.matrix(lowest_Y_hat_bst4)\n",
    "lowest_Y_hat_bst5 = np.matrix(lowest_Y_hat_bst5)\n",
    "lowest_Y_hat_bst6 = np.matrix(lowest_Y_hat_bst6)"
   ]
  },
  {
   "cell_type": "markdown",
   "metadata": {},
   "source": [
    "# Calculating th Average of all the lowest rmse valued Y_hat's:"
   ]
  },
  {
   "cell_type": "code",
   "execution_count": 71,
   "metadata": {
    "collapsed": true
   },
   "outputs": [],
   "source": [
    "lowest_Y_hat_bst_avg = (lowest_Y_hat_bst1 + lowest_Y_hat_bst2 + lowest_Y_hat_bst3 + lowest_Y_hat_bst4 + lowest_Y_hat_bst5 + lowest_Y_hat_bst6)/6\n"
   ]
  },
  {
   "cell_type": "code",
   "execution_count": 72,
   "metadata": {},
   "outputs": [
    {
     "data": {
      "text/html": [
       "<div>\n",
       "<style>\n",
       "    .dataframe thead tr:only-child th {\n",
       "        text-align: right;\n",
       "    }\n",
       "\n",
       "    .dataframe thead th {\n",
       "        text-align: left;\n",
       "    }\n",
       "\n",
       "    .dataframe tbody tr th {\n",
       "        vertical-align: top;\n",
       "    }\n",
       "</style>\n",
       "<table border=\"1\" class=\"dataframe\">\n",
       "  <thead>\n",
       "    <tr style=\"text-align: right;\">\n",
       "      <th></th>\n",
       "      <th>0</th>\n",
       "    </tr>\n",
       "  </thead>\n",
       "  <tbody>\n",
       "    <tr>\n",
       "      <th>265</th>\n",
       "      <td>1.773604</td>\n",
       "    </tr>\n",
       "    <tr>\n",
       "      <th>266</th>\n",
       "      <td>1.767003</td>\n",
       "    </tr>\n",
       "    <tr>\n",
       "      <th>267</th>\n",
       "      <td>1.783987</td>\n",
       "    </tr>\n",
       "    <tr>\n",
       "      <th>268</th>\n",
       "      <td>1.783769</td>\n",
       "    </tr>\n",
       "    <tr>\n",
       "      <th>269</th>\n",
       "      <td>1.802862</td>\n",
       "    </tr>\n",
       "  </tbody>\n",
       "</table>\n",
       "</div>"
      ],
      "text/plain": [
       "            0\n",
       "265  1.773604\n",
       "266  1.767003\n",
       "267  1.783987\n",
       "268  1.783769\n",
       "269  1.802862"
      ]
     },
     "execution_count": 72,
     "metadata": {},
     "output_type": "execute_result"
    }
   ],
   "source": [
    "lowest_Y_hat_bst_avg = pd.DataFrame(lowest_Y_hat_bst_avg)\n",
    "lowest_Y_hat_bst_avg.tail()"
   ]
  },
  {
   "cell_type": "code",
   "execution_count": 73,
   "metadata": {
    "collapsed": true
   },
   "outputs": [],
   "source": [
    "lowest_Y_hat_bst_avg['dates'] = test.index"
   ]
  },
  {
   "cell_type": "code",
   "execution_count": 74,
   "metadata": {
    "collapsed": true
   },
   "outputs": [],
   "source": [
    "lowest_Y_hat_bst_avg.columns = ['rf_y_hat', 'dates']"
   ]
  },
  {
   "cell_type": "code",
   "execution_count": 75,
   "metadata": {},
   "outputs": [
    {
     "data": {
      "text/html": [
       "<div>\n",
       "<style>\n",
       "    .dataframe thead tr:only-child th {\n",
       "        text-align: right;\n",
       "    }\n",
       "\n",
       "    .dataframe thead th {\n",
       "        text-align: left;\n",
       "    }\n",
       "\n",
       "    .dataframe tbody tr th {\n",
       "        vertical-align: top;\n",
       "    }\n",
       "</style>\n",
       "<table border=\"1\" class=\"dataframe\">\n",
       "  <thead>\n",
       "    <tr style=\"text-align: right;\">\n",
       "      <th></th>\n",
       "      <th>rf_y_hat</th>\n",
       "      <th>dates</th>\n",
       "    </tr>\n",
       "  </thead>\n",
       "  <tbody>\n",
       "    <tr>\n",
       "      <th>265</th>\n",
       "      <td>1.773604</td>\n",
       "      <td>2018-08-30</td>\n",
       "    </tr>\n",
       "    <tr>\n",
       "      <th>266</th>\n",
       "      <td>1.767003</td>\n",
       "      <td>2018-08-31</td>\n",
       "    </tr>\n",
       "    <tr>\n",
       "      <th>267</th>\n",
       "      <td>1.783987</td>\n",
       "      <td>2018-09-04</td>\n",
       "    </tr>\n",
       "    <tr>\n",
       "      <th>268</th>\n",
       "      <td>1.783769</td>\n",
       "      <td>2018-09-05</td>\n",
       "    </tr>\n",
       "    <tr>\n",
       "      <th>269</th>\n",
       "      <td>1.802862</td>\n",
       "      <td>2018-09-07</td>\n",
       "    </tr>\n",
       "  </tbody>\n",
       "</table>\n",
       "</div>"
      ],
      "text/plain": [
       "     rf_y_hat      dates\n",
       "265  1.773604 2018-08-30\n",
       "266  1.767003 2018-08-31\n",
       "267  1.783987 2018-09-04\n",
       "268  1.783769 2018-09-05\n",
       "269  1.802862 2018-09-07"
      ]
     },
     "execution_count": 75,
     "metadata": {},
     "output_type": "execute_result"
    }
   ],
   "source": [
    "lowest_Y_hat_bst_avg.tail()"
   ]
  },
  {
   "cell_type": "code",
   "execution_count": 76,
   "metadata": {
    "collapsed": true
   },
   "outputs": [],
   "source": [
    "\n",
    "lowest_Y_hat_bst_avg = lowest_Y_hat_bst_avg.set_index(pd.DatetimeIndex(lowest_Y_hat_bst_avg['dates']))\n",
    "del lowest_Y_hat_bst_avg['dates']"
   ]
  },
  {
   "cell_type": "code",
   "execution_count": 77,
   "metadata": {},
   "outputs": [
    {
     "data": {
      "text/html": [
       "<div>\n",
       "<style>\n",
       "    .dataframe thead tr:only-child th {\n",
       "        text-align: right;\n",
       "    }\n",
       "\n",
       "    .dataframe thead th {\n",
       "        text-align: left;\n",
       "    }\n",
       "\n",
       "    .dataframe tbody tr th {\n",
       "        vertical-align: top;\n",
       "    }\n",
       "</style>\n",
       "<table border=\"1\" class=\"dataframe\">\n",
       "  <thead>\n",
       "    <tr style=\"text-align: right;\">\n",
       "      <th></th>\n",
       "      <th>rf_y_hat</th>\n",
       "    </tr>\n",
       "    <tr>\n",
       "      <th>dates</th>\n",
       "      <th></th>\n",
       "    </tr>\n",
       "  </thead>\n",
       "  <tbody>\n",
       "    <tr>\n",
       "      <th>2018-08-30</th>\n",
       "      <td>1.773604</td>\n",
       "    </tr>\n",
       "    <tr>\n",
       "      <th>2018-08-31</th>\n",
       "      <td>1.767003</td>\n",
       "    </tr>\n",
       "    <tr>\n",
       "      <th>2018-09-04</th>\n",
       "      <td>1.783987</td>\n",
       "    </tr>\n",
       "    <tr>\n",
       "      <th>2018-09-05</th>\n",
       "      <td>1.783769</td>\n",
       "    </tr>\n",
       "    <tr>\n",
       "      <th>2018-09-07</th>\n",
       "      <td>1.802862</td>\n",
       "    </tr>\n",
       "  </tbody>\n",
       "</table>\n",
       "</div>"
      ],
      "text/plain": [
       "            rf_y_hat\n",
       "dates               \n",
       "2018-08-30  1.773604\n",
       "2018-08-31  1.767003\n",
       "2018-09-04  1.783987\n",
       "2018-09-05  1.783769\n",
       "2018-09-07  1.802862"
      ]
     },
     "execution_count": 77,
     "metadata": {},
     "output_type": "execute_result"
    }
   ],
   "source": [
    "lowest_Y_hat_bst_avg.tail()"
   ]
  },
  {
   "cell_type": "code",
   "execution_count": 78,
   "metadata": {},
   "outputs": [
    {
     "data": {
      "image/png": "[encoded data removed]",
      "text/plain": [
       "<matplotlib.figure.Figure at 0x1a72177b5f8>"
      ]
     },
     "metadata": {
      "image/png": {
       "height": 440,
       "width": 889
      }
     },
     "output_type": "display_data"
    }
   ],
   "source": [
    "fig = plt.figure(figsize=(15,7))\n",
    "plt.plot(lowest_Y_hat_bst_avg['rf_y_hat'], label = 'Random Forest Data', color = 'blue')\n",
    "plt.plot(test['DEXUSUK'], label = 'TEST DATA', color = 'red')\n",
    "plt.title('Random Forest Predicted forex rates of UK Pounds w.r.t US Dollars')\n",
    "plt.xlabel('Years  - - - - - - - - - - >')\n",
    "plt.ylabel('Price  - - - - - - - - - - >')\n",
    "plt.legend()\n",
    "plt.show()"
   ]
  },
  {
   "cell_type": "markdown",
   "metadata": {},
   "source": [
    "#### Analysis : We observe that <font color = 'green'>Random Forest</font> takes care of the volatie property of our actual data and generates a smoother and more stable curve. This will help when trading methods like bolingr bands are applied to it. "
   ]
  },
  {
   "cell_type": "markdown",
   "metadata": {},
   "source": [
    "## Regression1: Y = United Kingdom            and               X = Europe, Australia and Switzerland\n",
    "\n",
    "\n",
    "\n",
    "## <font color ='RED'>BootStrap Sample 1 = bst_1</font>\n",
    "\n",
    "\n",
    "\n",
    "#### Y = alpha + beta*X"
   ]
  },
  {
   "cell_type": "markdown",
   "metadata": {},
   "source": [
    "## Regression2:\n",
    "#### Yt = alpha + beta*ADS"
   ]
  },
  {
   "cell_type": "markdown",
   "metadata": {},
   "source": [
    "## Regression3:\n",
    "#### Yt = alpha + beta1*PC1 + beta2*PC2 + beat*PC3"
   ]
  },
  {
   "cell_type": "markdown",
   "metadata": {},
   "source": [
    "## Regression4:\n",
    "#### Yt = alpha + beta1*PC1 + beta2*ADS"
   ]
  },
  {
   "cell_type": "markdown",
   "metadata": {},
   "source": [
    "# For bootstrap sample 1 (BST_1) \n",
    "\n",
    "## The regression 3 (Y_hat3) has the lowest RMSE value = 0.201 "
   ]
  },
  {
   "cell_type": "markdown",
   "metadata": {
    "collapsed": true
   },
   "source": [
    "## ## Regression1: Y = United Kingdom            and               X = Europe, Australia and Switzerland\n",
    "\n",
    "## <font color ='RED'>BootStrap Sample 2 = bst_2</font>\n",
    "\n",
    "### Y = alpha * beta X"
   ]
  },
  {
   "cell_type": "markdown",
   "metadata": {},
   "source": [
    "# Bollinger Bands"
   ]
  },
  {
   "cell_type": "code",
   "execution_count": 79,
   "metadata": {
    "collapsed": true
   },
   "outputs": [],
   "source": [
    "short_MA = lowest_Y_hat_bst_avg['rf_y_hat'].rolling(window=5).mean()\n",
    "lowest_Y_hat_bst_avg['Short_Moving_Avg'] = short_MA"
   ]
  },
  {
   "cell_type": "code",
   "execution_count": 80,
   "metadata": {
    "collapsed": true
   },
   "outputs": [],
   "source": [
    "long_MA = lowest_Y_hat_bst_avg['rf_y_hat'].rolling(window=20).mean()\n",
    "lowest_Y_hat_bst_avg['Long_Moving_Avg'] = long_MA"
   ]
  },
  {
   "cell_type": "code",
   "execution_count": 81,
   "metadata": {
    "collapsed": true
   },
   "outputs": [],
   "source": [
    "long_std= lowest_Y_hat_bst_avg['rf_y_hat'].rolling(window=20).std()\n",
    "lowest_Y_hat_bst_avg['Long_std'] = long_std"
   ]
  },
  {
   "cell_type": "code",
   "execution_count": 82,
   "metadata": {
    "collapsed": true
   },
   "outputs": [],
   "source": [
    "long_upper_band = (long_MA) + ((long_std)*1)\n",
    "lowest_Y_hat_bst_avg['Long_Upper_Band'] = long_upper_band"
   ]
  },
  {
   "cell_type": "code",
   "execution_count": 83,
   "metadata": {
    "collapsed": true
   },
   "outputs": [],
   "source": [
    "long_lower_band = (long_MA) - ((long_std)*1)\n",
    "lowest_Y_hat_bst_avg['Long_Lower_Band'] = long_lower_band"
   ]
  },
  {
   "cell_type": "code",
   "execution_count": 84,
   "metadata": {},
   "outputs": [
    {
     "data": {
      "image/png": "[encoded data removed]",
      "text/plain": [
       "<matplotlib.figure.Figure at 0x1a722ecff98>"
      ]
     },
     "metadata": {
      "image/png": {
       "height": 482,
       "width": 1000
      }
     },
     "output_type": "display_data"
    }
   ],
   "source": [
    "plt.style.use('fivethirtyeight')\n",
    "fig = plt.figure(figsize=(15,7))\n",
    "ax = fig.add_subplot(111)\n",
    "x_axis = lowest_Y_hat_bst_avg.index.get_level_values(0)\n",
    "ax.fill_between(x_axis, lowest_Y_hat_bst_avg['Long_Upper_Band'], lowest_Y_hat_bst_avg['Long_Lower_Band'], color='silver')\n",
    "ax.plot(x_axis, lowest_Y_hat_bst_avg['rf_y_hat'], color='black', label = 'Random Forest Y_hat',lw=2)\n",
    "ax.plot(x_axis, lowest_Y_hat_bst_avg['Long_Moving_Avg'], color='yellow', lw=2)\n",
    "ax.plot(x_axis, lowest_Y_hat_bst_avg['Short_Moving_Avg'], color='white', lw=2)\n",
    "\n",
    "ax.set_title('20 Day Bollinger Band for UK Pounds w.r.t USD')\n",
    "ax.set_xlabel('Date (Year/Month)')\n",
    "ax.set_ylabel('Price(USD)')\n",
    "ax.legend()\n",
    "plt.show()"
   ]
  },
  {
   "cell_type": "code",
   "execution_count": null,
   "metadata": {
    "collapsed": true
   },
   "outputs": [],
   "source": []
  },
  {
   "cell_type": "code",
   "execution_count": null,
   "metadata": {
    "collapsed": true
   },
   "outputs": [],
   "source": []
  },
  {
   "cell_type": "code",
   "execution_count": null,
   "metadata": {
    "collapsed": true
   },
   "outputs": [],
   "source": []
  }
 ],
 "metadata": {
  "kernelspec": {
   "display_name": "Python 3",
   "language": "python",
   "name": "python3"
  },
  "language_info": {
   "codemirror_mode": {
    "name": "ipython",
    "version": 3
   },
   "file_extension": ".py",
   "mimetype": "text/x-python",
   "name": "python",
   "nbconvert_exporter": "python",
   "pygments_lexer": "ipython3",
   "version": "3.6.3"
  }
 },
 "nbformat": 4,
 "nbformat_minor": 2
}
